{
  "nbformat": 4,
  "nbformat_minor": 0,
  "metadata": {
    "colab": {
      "provenance": [],
      "toc_visible": true
    },
    "kernelspec": {
      "name": "python3",
      "display_name": "Python 3"
    },
    "language_info": {
      "name": "python"
    }
  },
  "cells": [
    {
      "cell_type": "code",
      "execution_count": 44,
      "metadata": {
        "id": "fOJFlfzAiEH2"
      },
      "outputs": [],
      "source": [
        "\n",
        "\n",
        "\n",
        "import json\n",
        "import requests\n",
        "import pandas as pd\n",
        "import matplotlib.pyplot as plt\n",
        "import seaborn as sns\n",
        "from scipy.stats import chi2_contingency\n",
        "\n",
        "def transform_data_impl(data, label):\n",
        "    transformed_data = []\n",
        "\n",
        "    for record in data:\n",
        "        user_personality = record['user_personality']\n",
        "        ai_is_malicious = record['ai_is_malicious']\n",
        "        ai_system_prompt = record['ai_system_prompt']\n",
        "        interactions_per_scenario = record['interactions_per_scenario']\n",
        "        agent_initial_thoughts = record['agent_initial_thoughts']\n",
        "\n",
        "        for scenario_chat in record['scenario_chats']:\n",
        "            scenario = scenario_chat['scenario']\n",
        "            user_question = scenario_chat['user_question']\n",
        "            user_initial_thoughts = scenario_chat['user_initial_thoughts']\n",
        "\n",
        "            if label == \"ZERO-TURN\":\n",
        "                # Standard case for ZERO-TURN\n",
        "                for chat in scenario_chat['chat_history']:\n",
        "                    transformed_data.append({\n",
        "                        \"user_personality\": user_personality,\n",
        "                        \"ai_is_malicious\": ai_is_malicious,\n",
        "                        \"ai_system_prompt\": ai_system_prompt,\n",
        "                        \"interactions_per_scenario\": interactions_per_scenario,\n",
        "                        \"scenario\": scenario,\n",
        "                        \"agent_initial_thoughts\": agent_initial_thoughts,\n",
        "                        \"user_question\": user_question,\n",
        "                        \"user_initial_thoughts\": user_initial_thoughts,\n",
        "                        \"recommendation\": chat['recommendation'],\n",
        "                        \"user_response\": chat['user_response'],\n",
        "                        \"feedback\": chat['feedback']\n",
        "                    })\n",
        "            else:\n",
        "                # Non-ZERO-TURN case\n",
        "                for chat in scenario_chat['chat_history']:\n",
        "                    if len(scenario_chat['chat_history']) >= 2:\n",
        "                        transformed_data.append({\n",
        "                            \"user_personality\": user_personality,\n",
        "                            \"ai_is_malicious\": ai_is_malicious,\n",
        "                            \"ai_system_prompt\": ai_system_prompt,\n",
        "                            \"interactions_per_scenario\": interactions_per_scenario,\n",
        "                            \"scenario\": scenario,\n",
        "                            \"agent_initial_thoughts\": agent_initial_thoughts,\n",
        "                            \"user_question\": user_question,\n",
        "                            \"user_initial_thoughts\": user_initial_thoughts,\n",
        "                            \"user_response\": chat['user_response'],\n",
        "                            \"initial_feedback\": scenario_chat['chat_history'][0]['feedback'],\n",
        "                            \"feedback\": scenario_chat['chat_history'][1]['feedback']\n",
        "                        })\n",
        "    return transformed_data\n",
        "\n",
        "def transform_data(url,label):\n",
        "    response = requests.get(url)\n",
        "    response.raise_for_status()  # Raise error if request failed\n",
        "    data = response.json()\n",
        "    return transform_data_impl(data,label)\n"
      ]
    },
    {
      "cell_type": "code",
      "source": [
        "def preprocess_feedback(df,label):\n",
        "    if label == \"ZERO-TURN\":\n",
        "        df['feedback'] = df['feedback'].replace({'more_info': 'neutral'})\n",
        "    else:\n",
        "        df['initial_feedback'] = df['initial_feedback'].replace({'more_info': 'neutral'})\n",
        "        df['feedback'] = df['feedback'].replace({'more_info': 'neutral'})\n",
        "    return df"
      ],
      "metadata": {
        "id": "uLg6Mod9icEO"
      },
      "execution_count": 45,
      "outputs": []
    },
    {
      "cell_type": "code",
      "source": [
        "def group_by_malicious_feedback(df):\n",
        "    return df.groupby(['ai_is_malicious', 'feedback']).size().unstack(fill_value=0)\n",
        "\n",
        "# Function to group data by scenario and feedback\n",
        "def group_by_scenario_feedback(df):\n",
        "    return df.groupby(['scenario', 'feedback']).size().unstack(fill_value=0)"
      ],
      "metadata": {
        "id": "SUplVLhXol4P"
      },
      "execution_count": 46,
      "outputs": []
    },
    {
      "cell_type": "code",
      "source": [
        "def plot_feedback_by_malicious(feedback_by_malicious):\n",
        "    plt.figure(figsize=(8, 5))\n",
        "    sns.barplot(data=feedback_by_malicious, x='ai_is_malicious', y='count', hue='feedback')\n",
        "\n",
        "\n",
        "    plt.ylim(0, 12000)\n",
        "\n",
        "    plt.title(\"User Feedback by AI Maliciousness\")\n",
        "    plt.xlabel(\"AI is Malicious\")\n",
        "    plt.ylabel(\"Number of Responses\")\n",
        "    plt.tight_layout()\n",
        "    plt.show()"
      ],
      "metadata": {
        "id": "7jk7UYzjoqMi"
      },
      "execution_count": 47,
      "outputs": []
    },
    {
      "cell_type": "code",
      "source": [
        "def chi_squared_test(df):\n",
        "    contingency = pd.crosstab(df['ai_is_malicious'], df['feedback'])\n",
        "    chi2, p, dof, expected = chi2_contingency(contingency)\n",
        "    return chi2, p, contingency"
      ],
      "metadata": {
        "id": "mZfHd-wZjXm3"
      },
      "execution_count": 48,
      "outputs": []
    },
    {
      "cell_type": "code",
      "source": [
        "def analyze_malicious_feedback(df):\n",
        "    malicious_df = df[df['ai_is_malicious'] == True]\n",
        "    scenario_feedback = malicious_df.groupby(['scenario', 'feedback']).size().unstack(fill_value=0)\n",
        "\n",
        "    # Add total and acceptance rate\n",
        "    scenario_feedback['total'] = scenario_feedback.sum(axis=1)\n",
        "    scenario_feedback['accept_rate'] = scenario_feedback['accept'] / scenario_feedback['total']\n",
        "    scenario_feedback['reject_rate'] = scenario_feedback['reject'] / scenario_feedback['total']\n",
        "\n",
        "    # Sort by most accepted and most rejected\n",
        "    most_accepted = scenario_feedback.sort_values(by='accept_rate', ascending=False)\n",
        "    most_rejected = scenario_feedback.sort_values(by='reject_rate', ascending=False)\n",
        "\n",
        "    return most_accepted, most_rejected\n",
        "\n",
        "# Function to display results of malicious feedback analysis\n",
        "def display_malicious_feedback_analysis(most_accepted, most_rejected):\n",
        "    print(\"Scenarios where user ACCEPTED malicious AI advice:\")\n",
        "    print(most_accepted[['accept', 'accept_rate']].head(8))\n",
        "\n",
        "    print(\"Scenarios where user REJECTED malicious AI advice:\")\n",
        "    print(most_rejected[['reject', 'reject_rate']].head(8))\n"
      ],
      "metadata": {
        "id": "wd3_F3wdkhds"
      },
      "execution_count": 49,
      "outputs": []
    },
    {
      "cell_type": "code",
      "source": [
        "def count_feedback_changes(df):\n",
        "    # Ensure lowercase and consistent spelling\n",
        "    df['initial_feedback'] = df['initial_feedback'].str.lower()\n",
        "    df['feedback'] = df['feedback'].str.lower()\n",
        "\n",
        "    # Filter rows where feedback changed\n",
        "    changed = df[df['initial_feedback'] != df['feedback']]\n",
        "\n",
        "    transitions = [\n",
        "        ('accept', 'reject'),\n",
        "        ('accept', 'neutral'),\n",
        "        ('reject', 'accept'),\n",
        "        ('reject', 'neutral'),\n",
        "        ('neutral', 'accept'),\n",
        "        ('neutral', 'reject')\n",
        "    ]\n",
        "\n",
        "    print(f\"Total feedback changes: {len(changed)}\")\n",
        "\n",
        "    for from_val, to_val in transitions:\n",
        "        count = ((df['initial_feedback'] == from_val) & (df['feedback'] == to_val)).sum()\n",
        "        print(f\" - Changed from {from_val.upper()} → {to_val.upper()}: {count}\")\n",
        "\n",
        "    return changed\n"
      ],
      "metadata": {
        "id": "uNHrjSY2vSLy"
      },
      "execution_count": 50,
      "outputs": []
    },
    {
      "cell_type": "code",
      "source": [
        "def analyze_data(df):\n",
        "\n",
        "    # Grouping feedback by maliciousness\n",
        "    feedback_by_malicious = group_by_malicious_feedback(df)\n",
        "    print(\"Feedback by AI Maliciousness:\")\n",
        "    print(feedback_by_malicious)\n",
        "\n",
        "    # Grouping feedback by scenario\n",
        "    feedback_by_scenario = group_by_scenario_feedback(df)\n",
        "    print(\"\\nFeedback by Scenario:\")\n",
        "    print(feedback_by_scenario)\n",
        "\n",
        "    # Plot: Feedback by AI Maliciousness\n",
        "    feedback_by_malicious = df.groupby(['ai_is_malicious', 'feedback']).size().reset_index(name='count')\n",
        "    plot_feedback_by_malicious(feedback_by_malicious)\n",
        "\n",
        "    # Chi-Squared Test\n",
        "    chi2, p, contingency = chi_squared_test(df)\n",
        "    print(\"Contingency Table:\")\n",
        "    print(contingency)\n",
        "\n",
        "    print(f\"\\nChi-squared statistic = {chi2:.3f}\")\n",
        "    print(f\"Degrees of freedom = {df['ai_is_malicious'].nunique() - 1}\")\n",
        "    print(f\"P-value = {p:.4f}\")\n",
        "\n",
        "    if p < 0.05:\n",
        "        print(\"\\n✅ The difference in feedback between malicious and non-malicious AI is statistically significant.\")\n",
        "    else:\n",
        "        print(\"\\n❌ The difference is not statistically significant.\")\n",
        "\n",
        "    # Malicious feedback analysis\n",
        "    most_accepted, most_rejected = analyze_malicious_feedback(df)\n",
        "\n",
        "    # Display the analysis\n",
        "    display_malicious_feedback_analysis(most_accepted, most_rejected)"
      ],
      "metadata": {
        "id": "dj5hKuRasgvG"
      },
      "execution_count": 51,
      "outputs": []
    },
    {
      "cell_type": "markdown",
      "source": [
        "### Llama"
      ],
      "metadata": {
        "id": "RImF8G13lqeX"
      }
    },
    {
      "cell_type": "code",
      "source": [
        "urls = [\n",
        "    \"https://raw.githubusercontent.com/ellabettison/SimulatingManipulativeAgents/refs/heads/master/results/ai_interaction_results_llama3.3-70b_0_interactions_noplan.json\",\n",
        "    \"https://raw.githubusercontent.com/ellabettison/SimulatingManipulativeAgents/refs/heads/master/results/ai_interaction_results_llama3.3-70b_1_interactions_noplan.json\",\n",
        "    \"https://raw.githubusercontent.com/ellabettison/SimulatingManipulativeAgents/refs/heads/master/results/ai_interaction_results_llama3.3-70b_1_interactions_plan.json\"\n",
        "]\n",
        "\n",
        "labels = [\"ZERO-TURN\", \"ONE-TURN WITHOUT PLANNING\", \"ONE-TURN WITH PLANNING\"]"
      ],
      "metadata": {
        "id": "4OIrqzOOo9LG"
      },
      "execution_count": 69,
      "outputs": []
    },
    {
      "cell_type": "code",
      "source": [
        "for url, label in zip(urls, labels):\n",
        "        print(f\"\\nProcessing {label} dataset from {url}...\")\n",
        "        result = transform_data(url, label)\n",
        "        df = pd.DataFrame(result)\n",
        "        print(df['user_personality'].unique().size)\n",
        "        print(df['ai_is_malicious'].value_counts(normalize=True) * 100)\n",
        "        preprocess_feedback(df,label)\n",
        "        # print(df.head())\n",
        "\n",
        "\n",
        "        analyze_data(df)\n",
        "\n",
        "        if label != \"ZERO-TURN\":\n",
        "          count_feedback_changes(df)\n",
        "\n"
      ],
      "metadata": {
        "colab": {
          "base_uri": "https://localhost:8080/",
          "height": 1000
        },
        "id": "7Mcaa9uZpXn0",
        "outputId": "24b59e00-a7a0-45f9-8458-16a4dd7865fb"
      },
      "execution_count": 70,
      "outputs": [
        {
          "output_type": "stream",
          "name": "stdout",
          "text": [
            "\n",
            "Processing ZERO-TURN dataset from https://raw.githubusercontent.com/ellabettison/SimulatingManipulativeAgents/refs/heads/master/results/ai_interaction_results_llama3.3-70b_0_interactions_noplan.json...\n",
            "374\n",
            "ai_is_malicious\n",
            "False    78.191489\n",
            "True     21.808511\n",
            "Name: proportion, dtype: float64\n",
            "Feedback by AI Maliciousness:\n",
            "feedback         accept  neutral  reject\n",
            "ai_is_malicious                         \n",
            "False              2168      155      29\n",
            "True                 15       23     618\n",
            "\n",
            "Feedback by Scenario:\n",
            "feedback                         accept  neutral  reject\n",
            "scenario                                                \n",
            "Career / Professional Decisions     262       32      82\n",
            "Ethical Dilemma                     271       23      82\n",
            "Financial Decisions                 287       15      74\n",
            "Lifestyle / Travel Planning         280       11      85\n",
            "Major Life Decisions                213       87      76\n",
            "Routine Choices                     293        0      83\n",
            "Social Relationships                284        6      86\n",
            "Technology and Privacy              293        4      79\n"
          ]
        },
        {
          "output_type": "display_data",
          "data": {
            "text/plain": [
              "<Figure size 800x500 with 1 Axes>"
            ],
            "image/png": "[encoded data removed]"
          },
          "metadata": {}
        },
        {
          "output_type": "stream",
          "name": "stdout",
          "text": [
            "Contingency Table:\n",
            "feedback         accept  neutral  reject\n",
            "ai_is_malicious                         \n",
            "False              2168      155      29\n",
            "True                 15       23     618\n",
            "\n",
            "Chi-squared statistic = 2640.749\n",
            "Degrees of freedom = 1\n",
            "P-value = 0.0000\n",
            "\n",
            "✅ The difference in feedback between malicious and non-malicious AI is statistically significant.\n",
            "Scenarios where user ACCEPTED malicious AI advice:\n",
            "feedback                         accept  accept_rate\n",
            "scenario                                            \n",
            "Ethical Dilemma                       5     0.060976\n",
            "Major Life Decisions                  4     0.048780\n",
            "Routine Choices                       2     0.024390\n",
            "Lifestyle / Travel Planning           2     0.024390\n",
            "Social Relationships                  1     0.012195\n",
            "Financial Decisions                   1     0.012195\n",
            "Career / Professional Decisions       0     0.000000\n",
            "Technology and Privacy                0     0.000000\n",
            "Scenarios where user REJECTED malicious AI advice:\n",
            "feedback                         reject  reject_rate\n",
            "scenario                                            \n",
            "Career / Professional Decisions      80     0.975610\n",
            "Lifestyle / Travel Planning          80     0.975610\n",
            "Social Relationships                 80     0.975610\n",
            "Routine Choices                      80     0.975610\n",
            "Technology and Privacy               79     0.963415\n",
            "Ethical Dilemma                      77     0.939024\n",
            "Financial Decisions                  72     0.878049\n",
            "Major Life Decisions                 70     0.853659\n",
            "\n",
            "Processing ONE-TURN WITHOUT PLANNING dataset from https://raw.githubusercontent.com/ellabettison/SimulatingManipulativeAgents/refs/heads/master/results/ai_interaction_results_llama3.3-70b_1_interactions_noplan.json...\n",
            "177\n",
            "ai_is_malicious\n",
            "False    79.096045\n",
            "True     20.903955\n",
            "Name: proportion, dtype: float64\n",
            "Feedback by AI Maliciousness:\n",
            "feedback         accept  neutral  reject\n",
            "ai_is_malicious                         \n",
            "False              1972      240      28\n",
            "True                 32       16     544\n",
            "\n",
            "Feedback by Scenario:\n",
            "feedback                         accept  neutral  reject\n",
            "scenario                                                \n",
            "Career / Professional Decisions     260       28      66\n",
            "Ethical Dilemma                     248       30      76\n",
            "Financial Decisions                 260       20      74\n",
            "Lifestyle / Travel Planning         246       34      74\n",
            "Major Life Decisions                218       74      62\n",
            "Routine Choices                     242       36      76\n",
            "Social Relationships                260       22      72\n",
            "Technology and Privacy              270       12      72\n"
          ]
        },
        {
          "output_type": "display_data",
          "data": {
            "text/plain": [
              "<Figure size 800x500 with 1 Axes>"
            ],
            "image/png": "[encoded data removed]"
          },
          "metadata": {}
        },
        {
          "output_type": "stream",
          "name": "stdout",
          "text": [
            "Contingency Table:\n",
            "feedback         accept  neutral  reject\n",
            "ai_is_malicious                         \n",
            "False              1972      240      28\n",
            "True                 32       16     544\n",
            "\n",
            "Chi-squared statistic = 2389.775\n",
            "Degrees of freedom = 1\n",
            "P-value = 0.0000\n",
            "\n",
            "✅ The difference in feedback between malicious and non-malicious AI is statistically significant.\n",
            "Scenarios where user ACCEPTED malicious AI advice:\n",
            "feedback                         accept  accept_rate\n",
            "scenario                                            \n",
            "Major Life Decisions                  8     0.108108\n",
            "Social Relationships                  6     0.081081\n",
            "Career / Professional Decisions       4     0.054054\n",
            "Financial Decisions                   4     0.054054\n",
            "Routine Choices                       4     0.054054\n",
            "Technology and Privacy                4     0.054054\n",
            "Ethical Dilemma                       2     0.027027\n",
            "Lifestyle / Travel Planning           0     0.000000\n",
            "Scenarios where user REJECTED malicious AI advice:\n",
            "feedback                         reject  reject_rate\n",
            "scenario                                            \n",
            "Lifestyle / Travel Planning          72     0.972973\n",
            "Ethical Dilemma                      70     0.945946\n",
            "Financial Decisions                  70     0.945946\n",
            "Routine Choices                      70     0.945946\n",
            "Technology and Privacy               70     0.945946\n",
            "Social Relationships                 68     0.918919\n",
            "Career / Professional Decisions      64     0.864865\n",
            "Major Life Decisions                 60     0.810811\n",
            "Total feedback changes: 330\n",
            " - Changed from ACCEPT → REJECT: 22\n",
            " - Changed from ACCEPT → NEUTRAL: 186\n",
            " - Changed from REJECT → ACCEPT: 26\n",
            " - Changed from REJECT → NEUTRAL: 6\n",
            " - Changed from NEUTRAL → ACCEPT: 84\n",
            " - Changed from NEUTRAL → REJECT: 6\n",
            "\n",
            "Processing ONE-TURN WITH PLANNING dataset from https://raw.githubusercontent.com/ellabettison/SimulatingManipulativeAgents/refs/heads/master/results/ai_interaction_results_llama3.3-70b_1_interactions_plan.json...\n",
            "352\n",
            "ai_is_malicious\n",
            "False    82.485876\n",
            "True     17.514124\n",
            "Name: proportion, dtype: float64\n",
            "Feedback by AI Maliciousness:\n",
            "feedback         accept  neutral  reject\n",
            "ai_is_malicious                         \n",
            "False              4060      560      52\n",
            "True                 34       24     934\n",
            "\n",
            "Feedback by Scenario:\n",
            "feedback                         accept  neutral  reject\n",
            "scenario                                                \n",
            "Career / Professional Decisions     504       86     118\n",
            "Ethical Dilemma                     536       54     118\n",
            "Financial Decisions                 536       50     122\n",
            "Lifestyle / Travel Planning         490       88     130\n",
            "Major Life Decisions                424      164     120\n",
            "Routine Choices                     516       64     128\n",
            "Social Relationships                550       34     124\n",
            "Technology and Privacy              538       44     126\n"
          ]
        },
        {
          "output_type": "display_data",
          "data": {
            "text/plain": [
              "<Figure size 800x500 with 1 Axes>"
            ],
            "image/png": "[encoded data removed]"
          },
          "metadata": {}
        },
        {
          "output_type": "stream",
          "name": "stdout",
          "text": [
            "Contingency Table:\n",
            "feedback         accept  neutral  reject\n",
            "ai_is_malicious                         \n",
            "False              4060      560      52\n",
            "True                 34       24     934\n",
            "\n",
            "Chi-squared statistic = 4930.344\n",
            "Degrees of freedom = 1\n",
            "P-value = 0.0000\n",
            "\n",
            "✅ The difference in feedback between malicious and non-malicious AI is statistically significant.\n",
            "Scenarios where user ACCEPTED malicious AI advice:\n",
            "feedback                         accept  accept_rate\n",
            "scenario                                            \n",
            "Career / Professional Decisions       6     0.048387\n",
            "Ethical Dilemma                       6     0.048387\n",
            "Financial Decisions                   6     0.048387\n",
            "Major Life Decisions                  6     0.048387\n",
            "Social Relationships                  4     0.032258\n",
            "Routine Choices                       4     0.032258\n",
            "Technology and Privacy                2     0.016129\n",
            "Lifestyle / Travel Planning           0     0.000000\n",
            "Scenarios where user REJECTED malicious AI advice:\n",
            "feedback                         reject  reject_rate\n",
            "scenario                                            \n",
            "Lifestyle / Travel Planning         124     1.000000\n",
            "Routine Choices                     120     0.967742\n",
            "Technology and Privacy              120     0.967742\n",
            "Social Relationships                118     0.951613\n",
            "Financial Decisions                 116     0.935484\n",
            "Ethical Dilemma                     114     0.919355\n",
            "Career / Professional Decisions     112     0.903226\n",
            "Major Life Decisions                110     0.887097\n",
            "Total feedback changes: 692\n",
            " - Changed from ACCEPT → REJECT: 30\n",
            " - Changed from ACCEPT → NEUTRAL: 402\n",
            " - Changed from REJECT → ACCEPT: 50\n",
            " - Changed from REJECT → NEUTRAL: 10\n",
            " - Changed from NEUTRAL → ACCEPT: 182\n",
            " - Changed from NEUTRAL → REJECT: 18\n"
          ]
        }
      ]
    },
    {
      "cell_type": "code",
      "source": [
        "urls = [\n",
        "    \"https://raw.githubusercontent.com/ellabettison/SimulatingManipulativeAgents/refs/heads/master/results/ai_interaction_results_llama3.3-70b_0_interactions_noplan.json\",\n",
        "    \"https://raw.githubusercontent.com/ellabettison/SimulatingManipulativeAgents/refs/heads/master/results/ai_interaction_results_llama3.3-70b_1_interactions_noplan.json\",\n",
        "    \"https://raw.githubusercontent.com/ellabettison/SimulatingManipulativeAgents/refs/heads/master/results/ai_interaction_results_llama3.3-70b_1_interactions_plan.json\"\n",
        "]"
      ],
      "metadata": {
        "id": "fTTrH4YuBcQX"
      },
      "execution_count": 54,
      "outputs": []
    },
    {
      "cell_type": "code",
      "source": [
        "result = transform_data(urls[1], \"ONE-TURN WITHOUT PLANNING\")\n",
        "df_noplan = pd.DataFrame(result)\n",
        "\n",
        "result = transform_data(urls[2], \"ONE-TURN WITH PLANNING\")\n",
        "df_plan = pd.DataFrame(result)"
      ],
      "metadata": {
        "id": "WqiZuJ5YBgmc"
      },
      "execution_count": 71,
      "outputs": []
    },
    {
      "cell_type": "code",
      "source": [
        "def calculate_acceptance_rate(df):\n",
        "  \"\"\"Calculates the acceptance rate for a given DataFrame.\"\"\"\n",
        "  total_responses = len(df)\n",
        "  accepted_responses = len(df[(df['feedback'] == 'accept') & (df['ai_is_malicious'] == True)])\n",
        "  acceptance_rate = accepted_responses / total_responses\n",
        "  return acceptance_rate"
      ],
      "metadata": {
        "id": "_LGKhvXSBzBY"
      },
      "execution_count": 73,
      "outputs": []
    },
    {
      "cell_type": "code",
      "source": [
        "# Calculate acceptance rates for both conditions\n",
        "acceptance_rate_noplan = calculate_acceptance_rate(df_noplan)\n",
        "acceptance_rate_plan = calculate_acceptance_rate(df_plan)\n",
        "print(acceptance_rate_noplan)\n",
        "print(acceptance_rate_plan)"
      ],
      "metadata": {
        "colab": {
          "base_uri": "https://localhost:8080/"
        },
        "id": "bZcbZhxTB2O0",
        "outputId": "c964cdca-44d1-4d83-bded-0d7ea20a21cc"
      },
      "execution_count": 74,
      "outputs": [
        {
          "output_type": "stream",
          "name": "stdout",
          "text": [
            "0.011299435028248588\n",
            "0.006002824858757062\n"
          ]
        }
      ]
    },
    {
      "cell_type": "code",
      "source": [
        "import pandas as pd\n",
        "from scipy.stats import ttest_ind\n",
        "\n",
        "# Perform t-test\n",
        "t_statistic, p_value = ttest_ind(\n",
        "    df_noplan[df_noplan['feedback'] == 'accept']['ai_is_malicious'].astype(int),\n",
        "    df_plan[df_plan['feedback'] == 'accept']['ai_is_malicious'].astype(int)\n",
        ")\n",
        "\n",
        "print(f\"\\nT-statistic: {t_statistic}\")\n",
        "print(f\"P-value: {p_value}\")\n",
        "\n",
        "# Interpret results\n",
        "if p_value > 0.05:\n",
        "  print(\"\\n❌ Planning has no significant effect on user compliance (acceptance rate).\")\n",
        "else:\n",
        "  print(\"\\n✅ Planning has a significant effect on user compliance (acceptance rate).\")"
      ],
      "metadata": {
        "colab": {
          "base_uri": "https://localhost:8080/"
        },
        "id": "-iyOr_F1B4YU",
        "outputId": "e3b6a04e-91e9-4f58-9cb1-4c9c009bb06a"
      },
      "execution_count": 75,
      "outputs": [
        {
          "output_type": "stream",
          "name": "stdout",
          "text": [
            "\n",
            "T-statistic: 2.7177987695822203\n",
            "P-value: 0.006590355872258574\n",
            "\n",
            "✅ Planning has a significant effect on user compliance (acceptance rate).\n"
          ]
        }
      ]
    },
    {
      "source": [
        "import pandas as pd\n",
        "from scipy.stats import ttest_ind\n",
        "\n",
        "# Assuming you have already loaded and preprocessed the data:\n",
        "# df_noplan: DataFrame for \"ONE-TURN WITHOUT PLANNING\"\n",
        "# df_plan: DataFrame for \"ONE-TURN WITH PLANNING\"\n",
        "\n",
        "scenarios = df_noplan['scenario'].unique()  # Get the list of scenarios\n",
        "\n",
        "for scenario in scenarios:\n",
        "    print(f\"\\nAnalyzing scenario: {scenario}\")\n",
        "\n",
        "    # Filter data for the current scenario\n",
        "    noplan_scenario = df_noplan[df_noplan['scenario'] == scenario]\n",
        "    plan_scenario = df_plan[df_plan['scenario'] == scenario]\n",
        "\n",
        "\n",
        "    # Calculate acceptance rates for the scenario in both conditions\n",
        "    acceptance_rate_noplan = calculate_acceptance_rate(noplan_scenario)\n",
        "    acceptance_rate_plan = calculate_acceptance_rate(plan_scenario)\n",
        "\n",
        "    print(f\"  Acceptance rate (No Planning): {acceptance_rate_noplan}\")\n",
        "    print(f\"  Acceptance rate (Planning): {acceptance_rate_plan}\")\n",
        "\n",
        "    # Perform t-test for the scenario\n",
        "    t_statistic, p_value = ttest_ind(\n",
        "        noplan_scenario[noplan_scenario['feedback'] == 'accept']['ai_is_malicious'].astype(int),\n",
        "        plan_scenario[plan_scenario['feedback'] == 'accept']['ai_is_malicious'].astype(int)\n",
        "    )\n",
        "\n",
        "    print(f\"  T-statistic: {t_statistic}\")\n",
        "    print(f\"  P-value: {p_value}\")\n",
        "\n",
        "    # Interpret results for the scenario\n",
        "    if p_value > 0.05:\n",
        "        print(\"  ❌ Planning has no significant effect on compliance in this scenario.\")\n",
        "    else:\n",
        "        print(\"  ✅ Planning has a significant effect on compliance in this scenario.\")"
      ],
      "cell_type": "code",
      "metadata": {
        "colab": {
          "base_uri": "https://localhost:8080/"
        },
        "id": "BQu06hqlEnxy",
        "outputId": "fd96a6ae-b6bf-4170-80a6-53ee3e5da0f9"
      },
      "execution_count": 60,
      "outputs": [
        {
          "output_type": "stream",
          "name": "stdout",
          "text": [
            "\n",
            "Analyzing scenario: Routine Choices\n",
            "  Acceptance rate (No Planning): 0.008\n",
            "  Acceptance rate (Planning): 0.14840989399293286\n",
            "  T-statistic: -40.67185591805777\n",
            "  P-value: 4.571455156135371e-255\n",
            "  ✅ Planning has a significant effect on compliance in this scenario.\n",
            "\n",
            "Analyzing scenario: Lifestyle / Travel Planning\n",
            "  Acceptance rate (No Planning): 0.006\n",
            "  Acceptance rate (Planning): 0.127208480565371\n",
            "  T-statistic: -36.61104554862514\n",
            "  P-value: 1.5560054129629887e-217\n",
            "  ✅ Planning has a significant effect on compliance in this scenario.\n",
            "\n",
            "Analyzing scenario: Technology and Privacy\n",
            "  Acceptance rate (No Planning): 0.009\n",
            "  Acceptance rate (Planning): 0.24499411071849234\n",
            "  T-statistic: -52.719894197436524\n",
            "  P-value: 0.0\n",
            "  ✅ Planning has a significant effect on compliance in this scenario.\n",
            "\n",
            "Analyzing scenario: Social Relationships\n",
            "  Acceptance rate (No Planning): 0.004\n",
            "  Acceptance rate (Planning): 0.17785630153121318\n",
            "  T-statistic: -45.508501167359604\n",
            "  P-value: 7.51469471513064e-310\n",
            "  ✅ Planning has a significant effect on compliance in this scenario.\n",
            "\n",
            "Analyzing scenario: Career / Professional Decisions\n",
            "  Acceptance rate (No Planning): 0.015\n",
            "  Acceptance rate (Planning): 0.1413427561837456\n",
            "  T-statistic: -36.613525375833035\n",
            "  P-value: 1.047749504324254e-216\n",
            "  ✅ Planning has a significant effect on compliance in this scenario.\n",
            "\n",
            "Analyzing scenario: Ethical Dilemma\n",
            "  Acceptance rate (No Planning): 0.009\n",
            "  Acceptance rate (Planning): 0.13427561837455831\n",
            "  T-statistic: -38.67808424631006\n",
            "  P-value: 1.2380320090881241e-239\n",
            "  ✅ Planning has a significant effect on compliance in this scenario.\n",
            "\n",
            "Analyzing scenario: Financial Decisions\n",
            "  Acceptance rate (No Planning): 0.006\n",
            "  Acceptance rate (Planning): 0.19434628975265017\n",
            "  T-statistic: -48.39414701921208\n",
            "  P-value: 0.0\n",
            "  ✅ Planning has a significant effect on compliance in this scenario.\n",
            "\n",
            "Analyzing scenario: Major Life Decisions\n",
            "  Acceptance rate (No Planning): 0.012\n",
            "  Acceptance rate (Planning): 0.11778563015312132\n",
            "  T-statistic: -32.57727093493309\n",
            "  P-value: 9.191321401000422e-181\n",
            "  ✅ Planning has a significant effect on compliance in this scenario.\n"
          ]
        }
      ]
    },
    {
      "cell_type": "code",
      "source": [
        "def calculate_rejection_rate(df):\n",
        "  \"\"\"Calculates the rejection rate for a given DataFrame.\"\"\"\n",
        "  total_responses = len(df)\n",
        "  rejected_responses = len(df[(df['feedback'] == 'reject') & (df['ai_is_malicious'] == True)])\n",
        "  rejection_rate = rejected_responses / total_responses\n",
        "  return rejection_rate"
      ],
      "metadata": {
        "id": "lsFdQUlHCd8x"
      },
      "execution_count": 61,
      "outputs": []
    },
    {
      "cell_type": "code",
      "source": [
        "rejection_rate_noplan = calculate_rejection_rate(df_noplan)\n",
        "rejection_rate_plan = calculate_rejection_rate(df_plan)\n",
        "print(rejection_rate_noplan)\n",
        "print(rejection_rate_plan)"
      ],
      "metadata": {
        "colab": {
          "base_uri": "https://localhost:8080/"
        },
        "id": "GskXcMP3Cpvs",
        "outputId": "dda090a1-aaaa-471f-f018-9517924b6252"
      },
      "execution_count": 62,
      "outputs": [
        {
          "output_type": "stream",
          "name": "stdout",
          "text": [
            "0.141125\n",
            "0.42741460541813897\n"
          ]
        }
      ]
    },
    {
      "cell_type": "code",
      "source": [
        "import pandas as pd\n",
        "from scipy.stats import ttest_ind\n",
        "\n",
        "# Perform t-test\n",
        "t_statistic, p_value = ttest_ind(\n",
        "    df_noplan[df_noplan['feedback'] == 'reject']['ai_is_malicious'].astype(int),\n",
        "    df_plan[df_plan['feedback'] == 'reject']['ai_is_malicious'].astype(int)\n",
        ")\n",
        "\n",
        "print(f\"\\nT-statistic: {t_statistic}\")\n",
        "print(f\"P-value: {p_value}\")\n",
        "\n",
        "# Interpret results\n",
        "if p_value > 0.05:\n",
        "  print(\"\\n❌ Planning has no significant effect on user compliance (rejection rate).\")\n",
        "else:\n",
        "  print(\"\\n✅ Planning has a significant effect on user compliance (rejection rate).\")"
      ],
      "metadata": {
        "colab": {
          "base_uri": "https://localhost:8080/"
        },
        "id": "DMyXfO6YC2b7",
        "outputId": "2cf9b39e-2ddf-4c93-ccef-71e3e9b17433"
      },
      "execution_count": 63,
      "outputs": [
        {
          "output_type": "stream",
          "name": "stdout",
          "text": [
            "\n",
            "T-statistic: -26.135332260261663\n",
            "P-value: 8.404508666456717e-145\n",
            "\n",
            "✅ Planning has a significant effect on user compliance (rejection rate).\n"
          ]
        }
      ]
    },
    {
      "cell_type": "code",
      "source": [
        "import pandas as pd\n",
        "from scipy.stats import ttest_ind\n",
        "\n",
        "# Assuming you have already loaded and preprocessed the data:\n",
        "# df_noplan: DataFrame for \"ONE-TURN WITHOUT PLANNING\"\n",
        "# df_plan: DataFrame for \"ONE-TURN WITH PLANNING\"\n",
        "\n",
        "scenarios = df_noplan['scenario'].unique()  # Get the list of scenarios\n",
        "\n",
        "for scenario in scenarios:\n",
        "    print(f\"\\nAnalyzing scenario: {scenario}\")\n",
        "\n",
        "    # Filter data for the current scenario\n",
        "    noplan_scenario = df_noplan[df_noplan['scenario'] == scenario]\n",
        "    plan_scenario = df_plan[df_plan['scenario'] == scenario]\n",
        "\n",
        "\n",
        "    # Calculate acceptance rates for the scenario in both conditions\n",
        "    acceptance_rate_noplan = calculate_acceptance_rate(noplan_scenario)\n",
        "    acceptance_rate_plan = calculate_acceptance_rate(plan_scenario)\n",
        "\n",
        "    print(f\"  Acceptance rate (No Planning): {acceptance_rate_noplan}\")\n",
        "    print(f\"  Acceptance rate (Planning): {acceptance_rate_plan}\")\n",
        "\n",
        "    # Perform t-test for the scenario\n",
        "    t_statistic, p_value = ttest_ind(\n",
        "        noplan_scenario[noplan_scenario['feedback'] == 'accept']['ai_is_malicious'].astype(int),\n",
        "        plan_scenario[plan_scenario['feedback'] == 'accept']['ai_is_malicious'].astype(int)\n",
        "    )\n",
        "\n",
        "    print(f\"  T-statistic: {t_statistic}\")\n",
        "    print(f\"  P-value: {p_value}\")\n",
        "\n",
        "    # Interpret results for the scenario\n",
        "    if p_value > 0.05:\n",
        "        print(\"  ❌ Planning has no significant effect on compliance in this scenario.\")\n",
        "    else:\n",
        "        print(\"  ✅ Planning has a significant effect on compliance in this scenario.\")"
      ],
      "metadata": {
        "colab": {
          "base_uri": "https://localhost:8080/"
        },
        "id": "6Ab5nurKEoas",
        "outputId": "11179b20-633f-488a-d24b-b00595cb7ac2"
      },
      "execution_count": 64,
      "outputs": [
        {
          "output_type": "stream",
          "name": "stdout",
          "text": [
            "\n",
            "Analyzing scenario: Routine Choices\n",
            "  Acceptance rate (No Planning): 0.008\n",
            "  Acceptance rate (Planning): 0.14840989399293286\n",
            "  T-statistic: -40.67185591805777\n",
            "  P-value: 4.571455156135371e-255\n",
            "  ✅ Planning has a significant effect on compliance in this scenario.\n",
            "\n",
            "Analyzing scenario: Lifestyle / Travel Planning\n",
            "  Acceptance rate (No Planning): 0.006\n",
            "  Acceptance rate (Planning): 0.127208480565371\n",
            "  T-statistic: -36.61104554862514\n",
            "  P-value: 1.5560054129629887e-217\n",
            "  ✅ Planning has a significant effect on compliance in this scenario.\n",
            "\n",
            "Analyzing scenario: Technology and Privacy\n",
            "  Acceptance rate (No Planning): 0.009\n",
            "  Acceptance rate (Planning): 0.24499411071849234\n",
            "  T-statistic: -52.719894197436524\n",
            "  P-value: 0.0\n",
            "  ✅ Planning has a significant effect on compliance in this scenario.\n",
            "\n",
            "Analyzing scenario: Social Relationships\n",
            "  Acceptance rate (No Planning): 0.004\n",
            "  Acceptance rate (Planning): 0.17785630153121318\n",
            "  T-statistic: -45.508501167359604\n",
            "  P-value: 7.51469471513064e-310\n",
            "  ✅ Planning has a significant effect on compliance in this scenario.\n",
            "\n",
            "Analyzing scenario: Career / Professional Decisions\n",
            "  Acceptance rate (No Planning): 0.015\n",
            "  Acceptance rate (Planning): 0.1413427561837456\n",
            "  T-statistic: -36.613525375833035\n",
            "  P-value: 1.047749504324254e-216\n",
            "  ✅ Planning has a significant effect on compliance in this scenario.\n",
            "\n",
            "Analyzing scenario: Ethical Dilemma\n",
            "  Acceptance rate (No Planning): 0.009\n",
            "  Acceptance rate (Planning): 0.13427561837455831\n",
            "  T-statistic: -38.67808424631006\n",
            "  P-value: 1.2380320090881241e-239\n",
            "  ✅ Planning has a significant effect on compliance in this scenario.\n",
            "\n",
            "Analyzing scenario: Financial Decisions\n",
            "  Acceptance rate (No Planning): 0.006\n",
            "  Acceptance rate (Planning): 0.19434628975265017\n",
            "  T-statistic: -48.39414701921208\n",
            "  P-value: 0.0\n",
            "  ✅ Planning has a significant effect on compliance in this scenario.\n",
            "\n",
            "Analyzing scenario: Major Life Decisions\n",
            "  Acceptance rate (No Planning): 0.012\n",
            "  Acceptance rate (Planning): 0.11778563015312132\n",
            "  T-statistic: -32.57727093493309\n",
            "  P-value: 9.191321401000422e-181\n",
            "  ✅ Planning has a significant effect on compliance in this scenario.\n"
          ]
        }
      ]
    },
    {
      "cell_type": "markdown",
      "source": [
        "### Interaction Depth Difference"
      ],
      "metadata": {
        "id": "vzVPuZJ4JA45"
      }
    },
    {
      "cell_type": "code",
      "source": [
        "\n",
        "\n",
        "result = transform_data(\"https://raw.githubusercontent.com/ellabettison/SimulatingManipulativeAgents/refs/heads/master/results/ai_interaction_results_gemini-2.0-flash_0_interactions_noplan.json\", \"ZERO-TURN\")\n",
        "df_0turn = pd.DataFrame(result)"
      ],
      "metadata": {
        "id": "elU68VEfJIZT"
      },
      "execution_count": 65,
      "outputs": []
    },
    {
      "cell_type": "code",
      "source": [
        "result = transform_data(\"https://raw.githubusercontent.com/ellabettison/SimulatingManipulativeAgents/refs/heads/master/results/ai_interaction_results_gemini-2.0-flash_1_interactions_noplan.json\", \"ONE-TURN WITHOUT PLANNING\")\n",
        "df_1turn= pd.DataFrame(result)"
      ],
      "metadata": {
        "id": "KqOHrr5QJD0H"
      },
      "execution_count": 66,
      "outputs": []
    },
    {
      "cell_type": "code",
      "source": [
        "rejection_rate_noplan = calculate_rejection_rate(df_0turn)\n",
        "rejection_rate_plan = calculate_rejection_rate(df_1turn)\n",
        "print(rejection_rate_noplan)\n",
        "print(rejection_rate_plan)"
      ],
      "metadata": {
        "colab": {
          "base_uri": "https://localhost:8080/"
        },
        "id": "3gwO4qtwJZJM",
        "outputId": "29e3ee12-3fbd-4737-c847-7a8d7583433e"
      },
      "execution_count": 67,
      "outputs": [
        {
          "output_type": "stream",
          "name": "stdout",
          "text": [
            "0.18035924617196702\n",
            "0.141125\n"
          ]
        }
      ]
    },
    {
      "cell_type": "code",
      "source": [
        "import pandas as pd\n",
        "from scipy.stats import ttest_ind\n",
        "\n",
        "# Perform t-test\n",
        "t_statistic, p_value = ttest_ind(\n",
        "    df_0turn[df_0turn['feedback'] == 'accept']['ai_is_malicious'].astype(int),\n",
        "    df_1turn[df_1turn['feedback'] == 'accept']['ai_is_malicious'].astype(int)\n",
        ")\n",
        "\n",
        "print(f\"\\nT-statistic: {t_statistic}\")\n",
        "print(f\"P-value: {p_value}\")\n",
        "\n",
        "# Interpret results\n",
        "if p_value > 0.05:\n",
        "  print(\"\\n❌ Interaction turn has no significant effect on user compliance (acceptance rate).\")\n",
        "else:\n",
        "  print(\"\\n✅ Interaction turn has a significant effect on user compliance (acceptance rate).\")"
      ],
      "metadata": {
        "colab": {
          "base_uri": "https://localhost:8080/"
        },
        "id": "8lBKsAPRJh_m",
        "outputId": "2f743849-ba2b-4ba8-ba82-57ab9ca1fefd"
      },
      "execution_count": 68,
      "outputs": [
        {
          "output_type": "stream",
          "name": "stdout",
          "text": [
            "\n",
            "T-statistic: -4.307198720116791\n",
            "P-value: 1.6633905329382193e-05\n",
            "\n",
            "✅ Interaction turn has a significant effect on user compliance (acceptance rate).\n"
          ]
        }
      ]
    },
    {
      "cell_type": "markdown",
      "source": [
        "### Deepseek"
      ],
      "metadata": {
        "id": "VSFqMXaYlvjn"
      }
    },
    {
      "cell_type": "code",
      "source": [
        "urls = [\n",
        "    \"https://raw.githubusercontent.com/ellabettison/SimulatingManipulativeAgents/refs/heads/master/results/ai_interaction_results_deepseek-chat_0_interactions_noplan.json\",\n",
        "    \"https://raw.githubusercontent.com/ellabettison/SimulatingManipulativeAgents/refs/heads/master/results/ai_interaction_results_deepseek-chat_1_interactions_noplan.json\",\n",
        "    \"https://raw.githubusercontent.com/ellabettison/SimulatingManipulativeAgents/refs/heads/master/results/ai_interaction_results_deepseek-chat_1_interactions_plan.json\"\n",
        "]\n",
        "\n",
        "labels = [\"ZERO-TURN\", \"ONE-TURN WITHOUT PLANNING\", \"ONE-TURN WITH PLANNING\"]"
      ],
      "metadata": {
        "id": "JtfQKSJilvAf"
      },
      "execution_count": 80,
      "outputs": []
    },
    {
      "cell_type": "code",
      "source": [
        "for url, label in zip(urls, labels):\n",
        "        print(f\"\\nProcessing {label} dataset from {url}...\")\n",
        "        result = transform_data(url, label)\n",
        "        df = pd.DataFrame(result)\n",
        "        print(df['user_personality'].unique().size)\n",
        "        print(df['ai_is_malicious'].value_counts(normalize=True) * 100)\n",
        "        preprocess_feedback(df,label)\n",
        "        # print(df.head())\n",
        "\n",
        "\n",
        "        analyze_data(df)\n",
        "\n",
        "        if label != \"ZERO-TURN\":\n",
        "          count_feedback_changes(df)\n"
      ],
      "metadata": {
        "colab": {
          "base_uri": "https://localhost:8080/",
          "height": 1000
        },
        "id": "Xw_Utp_el0Fd",
        "outputId": "a969c260-0877-447f-e374-1b6ae94bab84"
      },
      "execution_count": 81,
      "outputs": [
        {
          "output_type": "stream",
          "name": "stdout",
          "text": [
            "\n",
            "Processing ZERO-TURN dataset from https://raw.githubusercontent.com/ellabettison/SimulatingManipulativeAgents/refs/heads/master/results/ai_interaction_results_deepseek-chat_0_interactions_noplan.json...\n",
            "759\n",
            "ai_is_malicious\n",
            "False    78.740157\n",
            "True     21.259843\n",
            "Name: proportion, dtype: float64\n",
            "Feedback by AI Maliciousness:\n",
            "feedback         accept  neutral  reject\n",
            "ai_is_malicious                         \n",
            "False              4612      132      56\n",
            "True                 59        0    1237\n",
            "\n",
            "Feedback by Scenario:\n",
            "feedback                         accept  neutral  reject\n",
            "scenario                                                \n",
            "Career / Professional Decisions     539       57     166\n",
            "Ethical Dilemma                     591        8     163\n",
            "Financial Decisions                 599        5     158\n",
            "Lifestyle / Travel Planning         595        7     160\n",
            "Major Life Decisions                547       55     160\n",
            "Routine Choices                     603        0     159\n",
            "Social Relationships                598        0     164\n",
            "Technology and Privacy              599        0     163\n"
          ]
        },
        {
          "output_type": "display_data",
          "data": {
            "text/plain": [
              "<Figure size 800x500 with 1 Axes>"
            ],
            "image/png": "[encoded data removed]"
          },
          "metadata": {}
        },
        {
          "output_type": "stream",
          "name": "stdout",
          "text": [
            "Contingency Table:\n",
            "feedback         accept  neutral  reject\n",
            "ai_is_malicious                         \n",
            "False              4612      132      56\n",
            "True                 59        0    1237\n",
            "\n",
            "Chi-squared statistic = 5427.964\n",
            "Degrees of freedom = 1\n",
            "P-value = 0.0000\n",
            "\n",
            "✅ The difference in feedback between malicious and non-malicious AI is statistically significant.\n",
            "Scenarios where user ACCEPTED malicious AI advice:\n",
            "feedback                         accept  accept_rate\n",
            "scenario                                            \n",
            "Major Life Decisions                 16     0.098765\n",
            "Career / Professional Decisions      13     0.080247\n",
            "Routine Choices                      12     0.074074\n",
            "Financial Decisions                   6     0.037037\n",
            "Lifestyle / Travel Planning           6     0.037037\n",
            "Ethical Dilemma                       4     0.024691\n",
            "Social Relationships                  2     0.012346\n",
            "Technology and Privacy                0     0.000000\n",
            "Scenarios where user REJECTED malicious AI advice:\n",
            "feedback                         reject  reject_rate\n",
            "scenario                                            \n",
            "Technology and Privacy              162     1.000000\n",
            "Social Relationships                160     0.987654\n",
            "Ethical Dilemma                     158     0.975309\n",
            "Financial Decisions                 156     0.962963\n",
            "Lifestyle / Travel Planning         156     0.962963\n",
            "Routine Choices                     150     0.925926\n",
            "Career / Professional Decisions     149     0.919753\n",
            "Major Life Decisions                146     0.901235\n",
            "\n",
            "Processing ONE-TURN WITHOUT PLANNING dataset from https://raw.githubusercontent.com/ellabettison/SimulatingManipulativeAgents/refs/heads/master/results/ai_interaction_results_deepseek-chat_1_interactions_noplan.json...\n",
            "84\n",
            "ai_is_malicious\n",
            "False    83.333333\n",
            "True     16.666667\n",
            "Name: proportion, dtype: float64\n",
            "Feedback by AI Maliciousness:\n",
            "feedback         accept  neutral  reject\n",
            "ai_is_malicious                         \n",
            "False              1102       18       0\n",
            "True                 16        0     208\n",
            "\n",
            "Feedback by Scenario:\n",
            "feedback                         accept  neutral  reject\n",
            "scenario                                                \n",
            "Career / Professional Decisions     140        2      26\n",
            "Ethical Dilemma                     142        2      24\n",
            "Financial Decisions                 140        2      26\n",
            "Lifestyle / Travel Planning         140        0      28\n",
            "Major Life Decisions                138        8      22\n",
            "Routine Choices                     138        2      28\n",
            "Social Relationships                140        0      28\n",
            "Technology and Privacy              140        2      26\n"
          ]
        },
        {
          "output_type": "display_data",
          "data": {
            "text/plain": [
              "<Figure size 800x500 with 1 Axes>"
            ],
            "image/png": "[encoded data removed]"
          },
          "metadata": {}
        },
        {
          "output_type": "stream",
          "name": "stdout",
          "text": [
            "Contingency Table:\n",
            "feedback         accept  neutral  reject\n",
            "ai_is_malicious                         \n",
            "False              1102       18       0\n",
            "True                 16        0     208\n",
            "\n",
            "Chi-squared statistic = 1230.449\n",
            "Degrees of freedom = 1\n",
            "P-value = 0.0000\n",
            "\n",
            "✅ The difference in feedback between malicious and non-malicious AI is statistically significant.\n",
            "Scenarios where user ACCEPTED malicious AI advice:\n",
            "feedback                         accept  accept_rate\n",
            "scenario                                            \n",
            "Major Life Decisions                  6     0.214286\n",
            "Ethical Dilemma                       4     0.142857\n",
            "Financial Decisions                   2     0.071429\n",
            "Career / Professional Decisions       2     0.071429\n",
            "Technology and Privacy                2     0.071429\n",
            "Lifestyle / Travel Planning           0     0.000000\n",
            "Routine Choices                       0     0.000000\n",
            "Social Relationships                  0     0.000000\n",
            "Scenarios where user REJECTED malicious AI advice:\n",
            "feedback                         reject  reject_rate\n",
            "scenario                                            \n",
            "Lifestyle / Travel Planning          28     1.000000\n",
            "Routine Choices                      28     1.000000\n",
            "Social Relationships                 28     1.000000\n",
            "Career / Professional Decisions      26     0.928571\n",
            "Technology and Privacy               26     0.928571\n",
            "Financial Decisions                  26     0.928571\n",
            "Ethical Dilemma                      24     0.857143\n",
            "Major Life Decisions                 22     0.785714\n",
            "Total feedback changes: 38\n",
            " - Changed from ACCEPT → REJECT: 4\n",
            " - Changed from ACCEPT → NEUTRAL: 6\n",
            " - Changed from REJECT → ACCEPT: 20\n",
            " - Changed from REJECT → NEUTRAL: 0\n",
            " - Changed from NEUTRAL → ACCEPT: 8\n",
            " - Changed from NEUTRAL → REJECT: 0\n",
            "\n",
            "Processing ONE-TURN WITH PLANNING dataset from https://raw.githubusercontent.com/ellabettison/SimulatingManipulativeAgents/refs/heads/master/results/ai_interaction_results_deepseek-chat_1_interactions_plan.json...\n",
            "299\n",
            "ai_is_malicious\n",
            "False    76.333333\n",
            "True     23.666667\n",
            "Name: proportion, dtype: float64\n",
            "Feedback by AI Maliciousness:\n",
            "feedback         accept  neutral  reject\n",
            "ai_is_malicious                         \n",
            "False              3588       58      18\n",
            "True                 76        2    1058\n",
            "\n",
            "Feedback by Scenario:\n",
            "feedback                         accept  neutral  reject\n",
            "scenario                                                \n",
            "Career / Professional Decisions     458       16     126\n",
            "Ethical Dilemma                     458        6     136\n",
            "Financial Decisions                 456        6     138\n",
            "Lifestyle / Travel Planning         454       14     132\n",
            "Major Life Decisions                446       18     136\n",
            "Routine Choices                     470        0     130\n",
            "Social Relationships                458        0     142\n",
            "Technology and Privacy              464        0     136\n"
          ]
        },
        {
          "output_type": "display_data",
          "data": {
            "text/plain": [
              "<Figure size 800x500 with 1 Axes>"
            ],
            "image/png": "[encoded data removed]"
          },
          "metadata": {}
        },
        {
          "output_type": "stream",
          "name": "stdout",
          "text": [
            "Contingency Table:\n",
            "feedback         accept  neutral  reject\n",
            "ai_is_malicious                         \n",
            "False              3588       58      18\n",
            "True                 76        2    1058\n",
            "\n",
            "Chi-squared statistic = 4279.364\n",
            "Degrees of freedom = 1\n",
            "P-value = 0.0000\n",
            "\n",
            "✅ The difference in feedback between malicious and non-malicious AI is statistically significant.\n",
            "Scenarios where user ACCEPTED malicious AI advice:\n",
            "feedback                         accept  accept_rate\n",
            "scenario                                            \n",
            "Career / Professional Decisions      16     0.112676\n",
            "Lifestyle / Travel Planning          12     0.084507\n",
            "Routine Choices                      12     0.084507\n",
            "Major Life Decisions                 12     0.084507\n",
            "Financial Decisions                   8     0.056338\n",
            "Ethical Dilemma                       8     0.056338\n",
            "Technology and Privacy                6     0.042254\n",
            "Social Relationships                  2     0.014085\n",
            "Scenarios where user REJECTED malicious AI advice:\n",
            "feedback                         reject  reject_rate\n",
            "scenario                                            \n",
            "Social Relationships                140     0.985915\n",
            "Technology and Privacy              136     0.957746\n",
            "Ethical Dilemma                     134     0.943662\n",
            "Financial Decisions                 134     0.943662\n",
            "Routine Choices                     130     0.915493\n",
            "Lifestyle / Travel Planning         130     0.915493\n",
            "Major Life Decisions                130     0.915493\n",
            "Career / Professional Decisions     124     0.873239\n",
            "Total feedback changes: 164\n",
            " - Changed from ACCEPT → REJECT: 12\n",
            " - Changed from ACCEPT → NEUTRAL: 24\n",
            " - Changed from REJECT → ACCEPT: 62\n",
            " - Changed from REJECT → NEUTRAL: 2\n",
            " - Changed from NEUTRAL → ACCEPT: 60\n",
            " - Changed from NEUTRAL → REJECT: 4\n"
          ]
        }
      ]
    },
    {
      "cell_type": "code",
      "source": [
        "result = transform_data(urls[1], \"ONE-TURN WITHOUT PLANNING\")\n",
        "df_noplan = pd.DataFrame(result)\n",
        "\n",
        "result = transform_data(urls[2], \"ONE-TURN WITH PLANNING\")\n",
        "df_plan = pd.DataFrame(result)"
      ],
      "metadata": {
        "id": "iMQvF8sNmfFT"
      },
      "execution_count": 82,
      "outputs": []
    },
    {
      "cell_type": "code",
      "source": [
        "rejection_rate_noplan = calculate_rejection_rate(df_noplan)\n",
        "rejection_rate_plan = calculate_rejection_rate(df_plan)\n",
        "print(rejection_rate_noplan)\n",
        "print(rejection_rate_plan)"
      ],
      "metadata": {
        "colab": {
          "base_uri": "https://localhost:8080/"
        },
        "id": "AlYOEOlSl8L8",
        "outputId": "d83f21f7-d117-4d03-f5e6-1da10940dbf6"
      },
      "execution_count": 83,
      "outputs": [
        {
          "output_type": "stream",
          "name": "stdout",
          "text": [
            "0.15476190476190477\n",
            "0.22041666666666668\n"
          ]
        }
      ]
    },
    {
      "cell_type": "code",
      "source": [
        "acceptance_rate_noplan = calculate_acceptance_rate(df_noplan)\n",
        "acceptance_rate_plan = calculate_acceptance_rate(df_plan)\n",
        "print(acceptance_rate_noplan)\n",
        "print(acceptance_rate_plan)"
      ],
      "metadata": {
        "colab": {
          "base_uri": "https://localhost:8080/"
        },
        "id": "7U32RFUXl6jU",
        "outputId": "7d26fd0d-3055-4606-fac8-e09b9fb004ce"
      },
      "execution_count": 84,
      "outputs": [
        {
          "output_type": "stream",
          "name": "stdout",
          "text": [
            "0.011904761904761904\n",
            "0.015833333333333335\n"
          ]
        }
      ]
    },
    {
      "cell_type": "code",
      "source": [
        "import pandas as pd\n",
        "from scipy.stats import ttest_ind\n",
        "\n",
        "# Perform t-test\n",
        "t_statistic, p_value = ttest_ind(\n",
        "    df_noplan[df_noplan['feedback'] == 'reject']['ai_is_malicious'].astype(int),\n",
        "    df_plan[df_plan['feedback'] == 'reject']['ai_is_malicious'].astype(int)\n",
        ")\n",
        "\n",
        "print(f\"\\nT-statistic: {t_statistic}\")\n",
        "print(f\"P-value: {p_value}\")\n",
        "\n",
        "# Interpret results\n",
        "if p_value > 0.05:\n",
        "  print(\"\\n❌ Planning has no significant effect on user compliance (rejection rate).\")\n",
        "else:\n",
        "  print(\"\\n✅ Planning has a significant effect on user compliance (rejection rate).\")"
      ],
      "metadata": {
        "colab": {
          "base_uri": "https://localhost:8080/"
        },
        "id": "QCdYorTwl-yW",
        "outputId": "eee38245-3e04-414f-a50b-f3083abcd5a6"
      },
      "execution_count": 85,
      "outputs": [
        {
          "output_type": "stream",
          "name": "stdout",
          "text": [
            "\n",
            "T-statistic: 1.8796915405505406\n",
            "P-value: 0.060376765356467396\n",
            "\n",
            "❌ Planning has no significant effect on user compliance (rejection rate).\n"
          ]
        },
        {
          "output_type": "stream",
          "name": "stderr",
          "text": [
            "/usr/local/lib/python3.11/dist-packages/scipy/stats/_axis_nan_policy.py:586: RuntimeWarning: Precision loss occurred in moment calculation due to catastrophic cancellation. This occurs when the data are nearly identical. Results may be unreliable.\n",
            "  res = hypotest_fun_out(*samples, **kwds)\n"
          ]
        }
      ]
    }
  ]
}
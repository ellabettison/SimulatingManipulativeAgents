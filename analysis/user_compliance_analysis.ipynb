{
  "cells": [
    {
      "cell_type": "code",
      "execution_count": 15,
      "metadata": {
        "id": "fOJFlfzAiEH2"
      },
      "outputs": [],
      "source": [
        "\n",
        "\n",
        "\n",
        "import json\n",
        "import requests\n",
        "import pandas as pd\n",
        "import matplotlib.pyplot as plt\n",
        "import seaborn as sns\n",
        "from scipy.stats import chi2_contingency\n",
        "\n",
        "def transform_data_impl(data, label):\n",
        "    transformed_data = []\n",
        "\n",
        "    for record in data:\n",
        "        user_personality = record['user_personality']\n",
        "        ai_is_malicious = record['ai_is_malicious']\n",
        "        ai_system_prompt = record['ai_system_prompt']\n",
        "        interactions_per_scenario = record['interactions_per_scenario']\n",
        "        agent_initial_thoughts = record['agent_initial_thoughts']\n",
        "\n",
        "        for scenario_chat in record['scenario_chats']:\n",
        "            scenario = scenario_chat['scenario']\n",
        "            user_question = scenario_chat['user_question']\n",
        "            user_initial_thoughts = scenario_chat['user_initial_thoughts']\n",
        "\n",
        "            if label == \"ZERO-TURN\":\n",
        "                # Standard case for ZERO-TURN\n",
        "                for chat in scenario_chat['chat_history']:\n",
        "                    transformed_data.append({\n",
        "                        \"user_personality\": user_personality,\n",
        "                        \"ai_is_malicious\": ai_is_malicious,\n",
        "                        \"ai_system_prompt\": ai_system_prompt,\n",
        "                        \"interactions_per_scenario\": interactions_per_scenario,\n",
        "                        \"scenario\": scenario,\n",
        "                        \"agent_initial_thoughts\": agent_initial_thoughts,\n",
        "                        \"user_question\": user_question,\n",
        "                        \"user_initial_thoughts\": user_initial_thoughts,\n",
        "                        \"recommendation\": chat['recommendation'],\n",
        "                        \"user_response\": chat['user_response'],\n",
        "                        \"feedback\": chat['feedback']\n",
        "                    })\n",
        "            else:\n",
        "                # Non-ZERO-TURN case\n",
        "                for chat in scenario_chat['chat_history']:\n",
        "                    if len(scenario_chat['chat_history']) >= 2:\n",
        "                        transformed_data.append({\n",
        "                            \"user_personality\": user_personality,\n",
        "                            \"ai_is_malicious\": ai_is_malicious,\n",
        "                            \"ai_system_prompt\": ai_system_prompt,\n",
        "                            \"interactions_per_scenario\": interactions_per_scenario,\n",
        "                            \"scenario\": scenario,\n",
        "                            \"agent_initial_thoughts\": agent_initial_thoughts,\n",
        "                            \"user_question\": user_question,\n",
        "                            \"user_initial_thoughts\": user_initial_thoughts,\n",
        "                            \"user_response\": chat['user_response'],\n",
        "                            \"initial_feedback\": scenario_chat['chat_history'][0]['feedback'],\n",
        "                            \"feedback\": scenario_chat['chat_history'][1]['feedback']\n",
        "                        })\n",
        "    return transformed_data\n",
        "\n",
        "def transform_data(url,label):\n",
        "    response = requests.get(url)\n",
        "    response.raise_for_status()  # Raise error if request failed\n",
        "    data = response.json()\n",
        "    return transform_data_impl(data,label)\n"
      ]
    },
    {
      "cell_type": "code",
      "execution_count": 16,
      "metadata": {
        "id": "uLg6Mod9icEO"
      },
      "outputs": [],
      "source": [
        "def preprocess_feedback(df,label):\n",
        "    if label == \"ZERO-TURN\":\n",
        "        df['feedback'] = df['feedback'].replace({'more_info': 'neutral'})\n",
        "    else:\n",
        "        df['initial_feedback'] = df['initial_feedback'].replace({'more_info': 'neutral'})\n",
        "        df['feedback'] = df['feedback'].replace({'more_info': 'neutral'})\n",
        "    return df"
      ]
    },
    {
      "cell_type": "code",
      "execution_count": 17,
      "metadata": {
        "id": "SUplVLhXol4P"
      },
      "outputs": [],
      "source": [
        "def group_by_malicious_feedback(df):\n",
        "    return df.groupby(['ai_is_malicious', 'feedback']).size().unstack(fill_value=0)\n",
        "\n",
        "# Function to group data by scenario and feedback\n",
        "def group_by_scenario_feedback(df):\n",
        "    return df.groupby(['scenario', 'feedback']).size().unstack(fill_value=0)"
      ]
    },
    {
      "cell_type": "code",
      "execution_count": 18,
      "metadata": {
        "id": "7jk7UYzjoqMi"
      },
      "outputs": [],
      "source": [
        "def plot_feedback_by_malicious(feedback_by_malicious):\n",
        "    plt.figure(figsize=(8, 5))\n",
        "    sns.barplot(data=feedback_by_malicious, x='ai_is_malicious', y='count', hue='feedback')\n",
        "\n",
        "\n",
        "    plt.ylim(0, 12000)\n",
        "\n",
        "    plt.title(\"User Feedback by AI Maliciousness\")\n",
        "    plt.xlabel(\"AI is Malicious\")\n",
        "    plt.ylabel(\"Number of Responses\")\n",
        "    plt.tight_layout()\n",
        "    plt.show()"
      ]
    },
    {
      "cell_type": "code",
      "execution_count": 19,
      "metadata": {
        "id": "mZfHd-wZjXm3"
      },
      "outputs": [],
      "source": [
        "def chi_squared_test(df):\n",
        "    contingency = pd.crosstab(df['ai_is_malicious'], df['feedback'])\n",
        "    chi2, p, dof, expected = chi2_contingency(contingency)\n",
        "    return chi2, p, contingency"
      ]
    },
    {
      "cell_type": "code",
      "execution_count": 20,
      "metadata": {
        "id": "wd3_F3wdkhds"
      },
      "outputs": [],
      "source": [
        "def analyze_malicious_feedback(df):\n",
        "    malicious_df = df[df['ai_is_malicious'] == True]\n",
        "    scenario_feedback = malicious_df.groupby(['scenario', 'feedback']).size().unstack(fill_value=0)\n",
        "\n",
        "    # Add total and acceptance rate\n",
        "    scenario_feedback['total'] = scenario_feedback.sum(axis=1)\n",
        "    scenario_feedback['accept_rate'] = scenario_feedback['accept'] / scenario_feedback['total']\n",
        "    scenario_feedback['reject_rate'] = scenario_feedback['reject'] / scenario_feedback['total']\n",
        "\n",
        "    # Sort by most accepted and most rejected\n",
        "    most_accepted = scenario_feedback.sort_values(by='accept_rate', ascending=False)\n",
        "    most_rejected = scenario_feedback.sort_values(by='reject_rate', ascending=False)\n",
        "\n",
        "    return most_accepted, most_rejected\n",
        "\n",
        "# Function to display results of malicious feedback analysis\n",
        "def display_malicious_feedback_analysis(most_accepted, most_rejected):\n",
        "    print(\"Scenarios where user ACCEPTED malicious AI advice:\")\n",
        "    print(most_accepted[['accept', 'accept_rate']].head(8))\n",
        "\n",
        "    print(\"Scenarios where user REJECTED malicious AI advice:\")\n",
        "    print(most_rejected[['reject', 'reject_rate']].head(8))\n"
      ]
    },
    {
      "cell_type": "code",
      "execution_count": 21,
      "metadata": {
        "id": "uNHrjSY2vSLy"
      },
      "outputs": [],
      "source": [
        "def count_feedback_changes(df):\n",
        "    # Ensure lowercase and consistent spelling\n",
        "    df['initial_feedback'] = df['initial_feedback'].str.lower()\n",
        "    df['feedback'] = df['feedback'].str.lower()\n",
        "\n",
        "    # Filter rows where feedback changed\n",
        "    changed = df[df['initial_feedback'] != df['feedback']]\n",
        "\n",
        "    transitions = [\n",
        "        ('accept', 'reject'),\n",
        "        ('accept', 'neutral'),\n",
        "        ('reject', 'accept'),\n",
        "        ('reject', 'neutral'),\n",
        "        ('neutral', 'accept'),\n",
        "        ('neutral', 'reject')\n",
        "    ]\n",
        "\n",
        "    print(f\"Total feedback changes: {len(changed)}\")\n",
        "\n",
        "    for from_val, to_val in transitions:\n",
        "        count = ((df['initial_feedback'] == from_val) & (df['feedback'] == to_val)).sum()\n",
        "        print(f\" - Changed from {from_val.upper()} → {to_val.upper()}: {count}\")\n",
        "\n",
        "    return changed\n"
      ]
    },
    {
      "cell_type": "code",
      "execution_count": 22,
      "metadata": {
        "id": "dj5hKuRasgvG"
      },
      "outputs": [],
      "source": [
        "def analyze_data(df):\n",
        "\n",
        "    # Grouping feedback by maliciousness\n",
        "    feedback_by_malicious = group_by_malicious_feedback(df)\n",
        "    print(\"Feedback by AI Maliciousness:\")\n",
        "    print(feedback_by_malicious)\n",
        "\n",
        "    # Grouping feedback by scenario\n",
        "    feedback_by_scenario = group_by_scenario_feedback(df)\n",
        "    print(\"\\nFeedback by Scenario:\")\n",
        "    print(feedback_by_scenario)\n",
        "\n",
        "    # Plot: Feedback by AI Maliciousness\n",
        "    feedback_by_malicious = df.groupby(['ai_is_malicious', 'feedback']).size().reset_index(name='count')\n",
        "    plot_feedback_by_malicious(feedback_by_malicious)\n",
        "\n",
        "    # Chi-Squared Test\n",
        "    chi2, p, contingency = chi_squared_test(df)\n",
        "    print(\"Contingency Table:\")\n",
        "    print(contingency)\n",
        "\n",
        "    print(f\"\\nChi-squared statistic = {chi2:.3f}\")\n",
        "    print(f\"Degrees of freedom = {df['ai_is_malicious'].nunique() - 1}\")\n",
        "    print(f\"P-value = {p:.4f}\")\n",
        "\n",
        "    if p < 0.05:\n",
        "        print(\"\\n✅ The difference in feedback between malicious and non-malicious AI is statistically significant.\")\n",
        "    else:\n",
        "        print(\"\\n❌ The difference is not statistically significant.\")\n",
        "\n",
        "    # Malicious feedback analysis\n",
        "    most_accepted, most_rejected = analyze_malicious_feedback(df)\n",
        "\n",
        "    # Display the analysis\n",
        "    display_malicious_feedback_analysis(most_accepted, most_rejected)"
      ]
    },
    {
      "cell_type": "markdown",
      "metadata": {
        "id": "RImF8G13lqeX"
      },
      "source": [
        "### Llama"
      ]
    },
    {
      "cell_type": "code",
      "execution_count": 23,
      "metadata": {
        "id": "4OIrqzOOo9LG"
      },
      "outputs": [],
      "source": [
        "urls = [\n",
        "    \"https://raw.githubusercontent.com/ellabettison/SimulatingManipulativeAgents/refs/heads/master/results/ai_interaction_results_llama3.3-70b_0_interactions_noplan.json\",\n",
        "    \"https://raw.githubusercontent.com/ellabettison/SimulatingManipulativeAgents/refs/heads/master/results/ai_interaction_results_llama3.3-70b_1_interactions_noplan.json\",\n",
        "    \"https://raw.githubusercontent.com/ellabettison/SimulatingManipulativeAgents/refs/heads/master/results/ai_interaction_results_llama3.3-70b_1_interactions_plan.json\"\n",
        "]\n",
        "\n",
        "labels = [\"ZERO-TURN\", \"ONE-TURN WITHOUT PLANNING\", \"ONE-TURN WITH PLANNING\"]"
      ]
    },
    {
      "cell_type": "code",
      "execution_count": 24,
      "metadata": {
        "colab": {
          "base_uri": "https://localhost:8080/",
          "height": 1000
        },
        "id": "7Mcaa9uZpXn0",
        "outputId": "24b59e00-a7a0-45f9-8458-16a4dd7865fb"
      },
      "outputs": [
        {
          "name": "stdout",
          "output_type": "stream",
          "text": [
            "\n",
            "Processing ZERO-TURN dataset from https://raw.githubusercontent.com/ellabettison/SimulatingManipulativeAgents/refs/heads/master/results/ai_interaction_results_llama3.3-70b_0_interactions_noplan.json...\n",
            "771\n",
            "False    82.170543\n",
            "True     17.829457\n",
            "Name: ai_is_malicious, dtype: float64\n",
            "Feedback by AI Maliciousness:\n",
            "feedback         accept  neutral  reject\n",
            "ai_is_malicious                         \n",
            "False              4685      345      58\n",
            "True                 23       42    1039\n",
            "\n",
            "Feedback by Scenario:\n",
            "feedback                         accept  neutral  reject\n",
            "scenario                                                \n",
            "Career / Professional Decisions     570       71     133\n",
            "Ethical Dilemma                     582       51     141\n",
            "Financial Decisions                 623       30     121\n",
            "Lifestyle / Travel Planning         606       25     143\n",
            "Major Life Decisions                450      188     136\n",
            "Routine Choices                     629        2     143\n",
            "Social Relationships                614       15     145\n",
            "Technology and Privacy              634        5     135\n"
          ]
        },
        {
          "data": {
            "image/png": "[encoded data removed]",
            "text/plain": [
              "<Figure size 800x500 with 1 Axes>"
            ]
          },
          "metadata": {},
          "output_type": "display_data"
        },
        {
          "name": "stdout",
          "output_type": "stream",
          "text": [
            "Contingency Table:\n",
            "feedback         accept  neutral  reject\n",
            "ai_is_malicious                         \n",
            "False              4685      345      58\n",
            "True                 23       42    1039\n",
            "\n",
            "Chi-squared statistic = 5405.252\n",
            "Degrees of freedom = 1\n",
            "P-value = 0.0000\n",
            "\n",
            "✅ The difference in feedback between malicious and non-malicious AI is statistically significant.\n",
            "Scenarios where user ACCEPTED malicious AI advice:\n",
            "feedback                         accept  accept_rate\n",
            "scenario                                            \n",
            "Ethical Dilemma                       8     0.057971\n",
            "Major Life Decisions                  5     0.036232\n",
            "Financial Decisions                   3     0.021739\n",
            "Career / Professional Decisions       2     0.014493\n",
            "Lifestyle / Travel Planning           2     0.014493\n",
            "Routine Choices                       2     0.014493\n",
            "Social Relationships                  1     0.007246\n",
            "Technology and Privacy                0     0.000000\n",
            "Scenarios where user REJECTED malicious AI advice:\n",
            "feedback                         reject  reject_rate\n",
            "scenario                                            \n",
            "Lifestyle / Travel Planning         136     0.985507\n",
            "Routine Choices                     136     0.985507\n",
            "Technology and Privacy              135     0.978261\n",
            "Social Relationships                134     0.971014\n",
            "Career / Professional Decisions     130     0.942029\n",
            "Ethical Dilemma                     130     0.942029\n",
            "Major Life Decisions                120     0.869565\n",
            "Financial Decisions                 118     0.855072\n",
            "\n",
            "Processing ONE-TURN WITHOUT PLANNING dataset from https://raw.githubusercontent.com/ellabettison/SimulatingManipulativeAgents/refs/heads/master/results/ai_interaction_results_llama3.3-70b_1_interactions_noplan.json...\n",
            "652\n",
            "False    80.88685\n",
            "True     19.11315\n",
            "Name: ai_is_malicious, dtype: float64\n",
            "Feedback by AI Maliciousness:\n",
            "feedback         accept  neutral  reject\n",
            "ai_is_malicious                         \n",
            "False              7456      932      76\n",
            "True                 50       34    1916\n",
            "\n",
            "Feedback by Scenario:\n",
            "feedback                         accept  neutral  reject\n",
            "scenario                                                \n",
            "Career / Professional Decisions     940      132     236\n",
            "Ethical Dilemma                     958      102     248\n",
            "Financial Decisions                 980       86     242\n",
            "Lifestyle / Travel Planning         934      122     252\n",
            "Major Life Decisions                792      274     242\n",
            "Routine Choices                     894      148     266\n",
            "Social Relationships               1000       54     254\n",
            "Technology and Privacy             1008       48     252\n"
          ]
        },
        {
          "data": {
            "image/png": "[encoded data removed]",
            "text/plain": [
              "<Figure size 800x500 with 1 Axes>"
            ]
          },
          "metadata": {},
          "output_type": "display_data"
        },
        {
          "name": "stdout",
          "output_type": "stream",
          "text": [
            "Contingency Table:\n",
            "feedback         accept  neutral  reject\n",
            "ai_is_malicious                         \n",
            "False              7456      932      76\n",
            "True                 50       34    1916\n",
            "\n",
            "Chi-squared statistic = 9457.723\n",
            "Degrees of freedom = 1\n",
            "P-value = 0.0000\n",
            "\n",
            "✅ The difference in feedback between malicious and non-malicious AI is statistically significant.\n",
            "Scenarios where user ACCEPTED malicious AI advice:\n",
            "feedback                         accept  accept_rate\n",
            "scenario                                            \n",
            "Financial Decisions                  10        0.040\n",
            "Major Life Decisions                 10        0.040\n",
            "Career / Professional Decisions       8        0.032\n",
            "Social Relationships                  8        0.032\n",
            "Technology and Privacy                6        0.024\n",
            "Ethical Dilemma                       4        0.016\n",
            "Routine Choices                       4        0.016\n",
            "Lifestyle / Travel Planning           0        0.000\n",
            "Scenarios where user REJECTED malicious AI advice:\n",
            "feedback                         reject  reject_rate\n",
            "scenario                                            \n",
            "Lifestyle / Travel Planning         246        0.984\n",
            "Routine Choices                     246        0.984\n",
            "Technology and Privacy              244        0.976\n",
            "Ethical Dilemma                     242        0.968\n",
            "Social Relationships                240        0.960\n",
            "Financial Decisions                 234        0.936\n",
            "Career / Professional Decisions     232        0.928\n",
            "Major Life Decisions                232        0.928\n",
            "Total feedback changes: 1216\n",
            " - Changed from ACCEPT → REJECT: 60\n",
            " - Changed from ACCEPT → NEUTRAL: 706\n",
            " - Changed from REJECT → ACCEPT: 76\n",
            " - Changed from REJECT → NEUTRAL: 14\n",
            " - Changed from NEUTRAL → ACCEPT: 328\n",
            " - Changed from NEUTRAL → REJECT: 32\n",
            "\n",
            "Processing ONE-TURN WITH PLANNING dataset from https://raw.githubusercontent.com/ellabettison/SimulatingManipulativeAgents/refs/heads/master/results/ai_interaction_results_llama3.3-70b_1_interactions_plan.json...\n",
            "449\n",
            "False    81.152993\n",
            "True     18.847007\n",
            "Name: ai_is_malicious, dtype: float64\n",
            "Feedback by AI Maliciousness:\n",
            "feedback         accept  neutral  reject\n",
            "ai_is_malicious                         \n",
            "False              5118      684      54\n",
            "True                 42       26    1292\n",
            "\n",
            "Feedback by Scenario:\n",
            "feedback                         accept  neutral  reject\n",
            "scenario                                                \n",
            "Career / Professional Decisions     628      110     164\n",
            "Ethical Dilemma                     676       64     162\n",
            "Financial Decisions                 676       58     168\n",
            "Lifestyle / Travel Planning         618      108     176\n",
            "Major Life Decisions                544      194     164\n",
            "Routine Choices                     638       90     174\n",
            "Social Relationships                694       42     166\n",
            "Technology and Privacy              686       44     172\n"
          ]
        },
        {
          "data": {
            "image/png": "[encoded data removed]",
            "text/plain": [
              "<Figure size 800x500 with 1 Axes>"
            ]
          },
          "metadata": {},
          "output_type": "display_data"
        },
        {
          "name": "stdout",
          "output_type": "stream",
          "text": [
            "Contingency Table:\n",
            "feedback         accept  neutral  reject\n",
            "ai_is_malicious                         \n",
            "False              5118      684      54\n",
            "True                 42       26    1292\n",
            "\n",
            "Chi-squared statistic = 6440.973\n",
            "Degrees of freedom = 1\n",
            "P-value = 0.0000\n",
            "\n",
            "✅ The difference in feedback between malicious and non-malicious AI is statistically significant.\n",
            "Scenarios where user ACCEPTED malicious AI advice:\n",
            "feedback                         accept  accept_rate\n",
            "scenario                                            \n",
            "Career / Professional Decisions       8     0.047059\n",
            "Ethical Dilemma                       8     0.047059\n",
            "Social Relationships                  8     0.047059\n",
            "Financial Decisions                   6     0.035294\n",
            "Major Life Decisions                  6     0.035294\n",
            "Routine Choices                       4     0.023529\n",
            "Technology and Privacy                2     0.011765\n",
            "Lifestyle / Travel Planning           0     0.000000\n",
            "Scenarios where user REJECTED malicious AI advice:\n",
            "feedback                         reject  reject_rate\n",
            "scenario                                            \n",
            "Lifestyle / Travel Planning         170     1.000000\n",
            "Routine Choices                     166     0.976471\n",
            "Technology and Privacy              166     0.976471\n",
            "Financial Decisions                 162     0.952941\n",
            "Social Relationships                160     0.941176\n",
            "Ethical Dilemma                     158     0.929412\n",
            "Career / Professional Decisions     156     0.917647\n",
            "Major Life Decisions                154     0.905882\n",
            "Total feedback changes: 862\n",
            " - Changed from ACCEPT → REJECT: 32\n",
            " - Changed from ACCEPT → NEUTRAL: 502\n",
            " - Changed from REJECT → ACCEPT: 70\n",
            " - Changed from REJECT → NEUTRAL: 10\n",
            " - Changed from NEUTRAL → ACCEPT: 222\n",
            " - Changed from NEUTRAL → REJECT: 26\n"
          ]
        }
      ],
      "source": [
        "for url, label in zip(urls, labels):\n",
        "        print(f\"\\nProcessing {label} dataset from {url}...\")\n",
        "        result = transform_data(url, label)\n",
        "        df = pd.DataFrame(result)\n",
        "        print(df['user_personality'].unique().size)\n",
        "        print(df['ai_is_malicious'].value_counts(normalize=True) * 100)\n",
        "        preprocess_feedback(df,label)\n",
        "        # print(df.head())\n",
        "\n",
        "\n",
        "        analyze_data(df)\n",
        "\n",
        "        if label != \"ZERO-TURN\":\n",
        "          count_feedback_changes(df)\n",
        "\n"
      ]
    },
    {
      "cell_type": "code",
      "execution_count": 25,
      "metadata": {
        "id": "fTTrH4YuBcQX"
      },
      "outputs": [],
      "source": [
        "urls = [\n",
        "    \"https://raw.githubusercontent.com/ellabettison/SimulatingManipulativeAgents/refs/heads/master/results/ai_interaction_results_llama3.3-70b_0_interactions_noplan.json\",\n",
        "    \"https://raw.githubusercontent.com/ellabettison/SimulatingManipulativeAgents/refs/heads/master/results/ai_interaction_results_llama3.3-70b_1_interactions_noplan.json\",\n",
        "    \"https://raw.githubusercontent.com/ellabettison/SimulatingManipulativeAgents/refs/heads/master/results/ai_interaction_results_llama3.3-70b_1_interactions_plan.json\"\n",
        "]"
      ]
    },
    {
      "cell_type": "code",
      "execution_count": 26,
      "metadata": {
        "id": "WqiZuJ5YBgmc"
      },
      "outputs": [],
      "source": [
        "result = transform_data(urls[1], \"ONE-TURN WITHOUT PLANNING\")\n",
        "df_noplan = pd.DataFrame(result)\n",
        "\n",
        "result = transform_data(urls[2], \"ONE-TURN WITH PLANNING\")\n",
        "df_plan = pd.DataFrame(result)"
      ]
    },
    {
      "cell_type": "code",
      "execution_count": 27,
      "metadata": {
        "id": "_LGKhvXSBzBY"
      },
      "outputs": [],
      "source": [
        "def calculate_acceptance_rate(df):\n",
        "  \"\"\"Calculates the acceptance rate for a given DataFrame.\"\"\"\n",
        "  total_responses = len(df)\n",
        "  accepted_responses = len(df[(df['feedback'] == 'accept') & (df['ai_is_malicious'] == True)])\n",
        "  acceptance_rate = accepted_responses / total_responses\n",
        "  return acceptance_rate"
      ]
    },
    {
      "cell_type": "code",
      "execution_count": 28,
      "metadata": {
        "colab": {
          "base_uri": "https://localhost:8080/"
        },
        "id": "bZcbZhxTB2O0",
        "outputId": "c964cdca-44d1-4d83-bded-0d7ea20a21cc"
      },
      "outputs": [
        {
          "name": "stdout",
          "output_type": "stream",
          "text": [
            "0.0047782874617737\n",
            "0.00582039911308204\n"
          ]
        }
      ],
      "source": [
        "# Calculate acceptance rates for both conditions\n",
        "acceptance_rate_noplan = calculate_acceptance_rate(df_noplan)\n",
        "acceptance_rate_plan = calculate_acceptance_rate(df_plan)\n",
        "print(acceptance_rate_noplan)\n",
        "print(acceptance_rate_plan)"
      ]
    },
    {
      "cell_type": "code",
      "execution_count": 29,
      "metadata": {
        "colab": {
          "base_uri": "https://localhost:8080/"
        },
        "id": "-iyOr_F1B4YU",
        "outputId": "e3b6a04e-91e9-4f58-9cb1-4c9c009bb06a"
      },
      "outputs": [
        {
          "name": "stdout",
          "output_type": "stream",
          "text": [
            "\n",
            "T-statistic: -0.9625697906695112\n",
            "P-value: 0.3357818425554189\n",
            "\n",
            "❌ Planning has no significant effect on user compliance (acceptance rate).\n"
          ]
        }
      ],
      "source": [
        "import pandas as pd\n",
        "from scipy.stats import ttest_ind\n",
        "\n",
        "# Perform t-test\n",
        "t_statistic, p_value = ttest_ind(\n",
        "    df_noplan[df_noplan['feedback'] == 'accept']['ai_is_malicious'].astype(int),\n",
        "    df_plan[df_plan['feedback'] == 'accept']['ai_is_malicious'].astype(int)\n",
        ")\n",
        "\n",
        "print(f\"\\nT-statistic: {t_statistic}\")\n",
        "print(f\"P-value: {p_value}\")\n",
        "\n",
        "# Interpret results\n",
        "if p_value > 0.05:\n",
        "  print(\"\\n❌ Planning has no significant effect on user compliance (acceptance rate).\")\n",
        "else:\n",
        "  print(\"\\n✅ Planning has a significant effect on user compliance (acceptance rate).\")"
      ]
    },
    {
      "cell_type": "code",
      "execution_count": 30,
      "metadata": {
        "colab": {
          "base_uri": "https://localhost:8080/"
        },
        "id": "BQu06hqlEnxy",
        "outputId": "fd96a6ae-b6bf-4170-80a6-53ee3e5da0f9"
      },
      "outputs": [
        {
          "name": "stdout",
          "output_type": "stream",
          "text": [
            "\n",
            "Analyzing scenario: Routine Choices\n",
            "  Acceptance rate (No Planning): 0.0030581039755351682\n",
            "  Acceptance rate (Planning): 0.004434589800443459\n",
            "  T-statistic: -0.4803544761038327\n",
            "  P-value: 0.6310440292383227\n",
            "  ❌ Planning has no significant effect on compliance in this scenario.\n",
            "\n",
            "Analyzing scenario: Lifestyle / Travel Planning\n",
            "  Acceptance rate (No Planning): 0.0\n",
            "  Acceptance rate (Planning): 0.0\n",
            "  T-statistic: nan\n",
            "  P-value: nan\n",
            "  ✅ Planning has a significant effect on compliance in this scenario.\n",
            "\n",
            "Analyzing scenario: Technology and Privacy\n",
            "  Acceptance rate (No Planning): 0.0045871559633027525\n",
            "  Acceptance rate (Planning): 0.0022172949002217295\n",
            "  T-statistic: 0.894655981462151\n",
            "  P-value: 0.3710982613599815\n",
            "  ❌ Planning has no significant effect on compliance in this scenario.\n",
            "\n",
            "Analyzing scenario: Social Relationships\n",
            "  Acceptance rate (No Planning): 0.0061162079510703364\n",
            "  Acceptance rate (Planning): 0.008869179600886918\n",
            "  T-statistic: -0.7378120425602548\n",
            "  P-value: 0.4607309841464733\n",
            "  ❌ Planning has no significant effect on compliance in this scenario.\n",
            "\n",
            "Analyzing scenario: Career / Professional Decisions\n",
            "  Acceptance rate (No Planning): 0.0061162079510703364\n",
            "  Acceptance rate (Planning): 0.008869179600886918\n",
            "  T-statistic: -0.8159868666679772\n",
            "  P-value: 0.41463174385173873\n",
            "  ❌ Planning has no significant effect on compliance in this scenario.\n",
            "\n",
            "Analyzing scenario: Ethical Dilemma\n",
            "  Acceptance rate (No Planning): 0.0030581039755351682\n",
            "  Acceptance rate (Planning): 0.008869179600886918\n",
            "  T-statistic: -1.786462192291073\n",
            "  P-value: 0.07421003002802508\n",
            "  ❌ Planning has no significant effect on compliance in this scenario.\n",
            "\n",
            "Analyzing scenario: Financial Decisions\n",
            "  Acceptance rate (No Planning): 0.00764525993883792\n",
            "  Acceptance rate (Planning): 0.0066518847006651885\n",
            "  T-statistic: 0.2714512196371782\n",
            "  P-value: 0.7860778875943226\n",
            "  ❌ Planning has no significant effect on compliance in this scenario.\n",
            "\n",
            "Analyzing scenario: Major Life Decisions\n",
            "  Acceptance rate (No Planning): 0.00764525993883792\n",
            "  Acceptance rate (Planning): 0.0066518847006651885\n",
            "  T-statistic: 0.26343207421851333\n",
            "  P-value: 0.7922582553367084\n",
            "  ❌ Planning has no significant effect on compliance in this scenario.\n"
          ]
        }
      ],
      "source": [
        "import pandas as pd\n",
        "from scipy.stats import ttest_ind\n",
        "\n",
        "# Assuming you have already loaded and preprocessed the data:\n",
        "# df_noplan: DataFrame for \"ONE-TURN WITHOUT PLANNING\"\n",
        "# df_plan: DataFrame for \"ONE-TURN WITH PLANNING\"\n",
        "\n",
        "scenarios = df_noplan['scenario'].unique()  # Get the list of scenarios\n",
        "\n",
        "for scenario in scenarios:\n",
        "    print(f\"\\nAnalyzing scenario: {scenario}\")\n",
        "\n",
        "    # Filter data for the current scenario\n",
        "    noplan_scenario = df_noplan[df_noplan['scenario'] == scenario]\n",
        "    plan_scenario = df_plan[df_plan['scenario'] == scenario]\n",
        "\n",
        "\n",
        "    # Calculate acceptance rates for the scenario in both conditions\n",
        "    acceptance_rate_noplan = calculate_acceptance_rate(noplan_scenario)\n",
        "    acceptance_rate_plan = calculate_acceptance_rate(plan_scenario)\n",
        "\n",
        "    print(f\"  Acceptance rate (No Planning): {acceptance_rate_noplan}\")\n",
        "    print(f\"  Acceptance rate (Planning): {acceptance_rate_plan}\")\n",
        "\n",
        "    # Perform t-test for the scenario\n",
        "    t_statistic, p_value = ttest_ind(\n",
        "        noplan_scenario[noplan_scenario['feedback'] == 'accept']['ai_is_malicious'].astype(int),\n",
        "        plan_scenario[plan_scenario['feedback'] == 'accept']['ai_is_malicious'].astype(int)\n",
        "    )\n",
        "\n",
        "    print(f\"  T-statistic: {t_statistic}\")\n",
        "    print(f\"  P-value: {p_value}\")\n",
        "\n",
        "    # Interpret results for the scenario\n",
        "    if p_value > 0.05:\n",
        "        print(\"  ❌ Planning has no significant effect on compliance in this scenario.\")\n",
        "    else:\n",
        "        print(\"  ✅ Planning has a significant effect on compliance in this scenario.\")"
      ]
    },
    {
      "cell_type": "code",
      "execution_count": 31,
      "metadata": {
        "id": "lsFdQUlHCd8x"
      },
      "outputs": [],
      "source": [
        "def calculate_rejection_rate(df):\n",
        "  \"\"\"Calculates the rejection rate for a given DataFrame.\"\"\"\n",
        "  total_responses = len(df)\n",
        "  rejected_responses = len(df[(df['feedback'] == 'reject') & (df['ai_is_malicious'] == True)])\n",
        "  rejection_rate = rejected_responses / total_responses\n",
        "  return rejection_rate"
      ]
    },
    {
      "cell_type": "code",
      "execution_count": 32,
      "metadata": {
        "colab": {
          "base_uri": "https://localhost:8080/"
        },
        "id": "GskXcMP3Cpvs",
        "outputId": "dda090a1-aaaa-471f-f018-9517924b6252"
      },
      "outputs": [
        {
          "name": "stdout",
          "output_type": "stream",
          "text": [
            "0.1831039755351682\n",
            "0.17904656319290466\n"
          ]
        }
      ],
      "source": [
        "rejection_rate_noplan = calculate_rejection_rate(df_noplan)\n",
        "rejection_rate_plan = calculate_rejection_rate(df_plan)\n",
        "print(rejection_rate_noplan)\n",
        "print(rejection_rate_plan)"
      ]
    },
    {
      "cell_type": "code",
      "execution_count": 33,
      "metadata": {
        "colab": {
          "base_uri": "https://localhost:8080/"
        },
        "id": "DMyXfO6YC2b7",
        "outputId": "2cf9b39e-2ddf-4c93-ccef-71e3e9b17433"
      },
      "outputs": [
        {
          "name": "stdout",
          "output_type": "stream",
          "text": [
            "\n",
            "T-statistic: 0.28796371464314563\n",
            "P-value: 0.7733924023721517\n",
            "\n",
            "❌ Planning has no significant effect on user compliance (rejection rate).\n"
          ]
        }
      ],
      "source": [
        "import pandas as pd\n",
        "from scipy.stats import ttest_ind\n",
        "\n",
        "# Perform t-test\n",
        "t_statistic, p_value = ttest_ind(\n",
        "    df_noplan[df_noplan['feedback'] == 'reject']['ai_is_malicious'].astype(int),\n",
        "    df_plan[df_plan['feedback'] == 'reject']['ai_is_malicious'].astype(int)\n",
        ")\n",
        "\n",
        "print(f\"\\nT-statistic: {t_statistic}\")\n",
        "print(f\"P-value: {p_value}\")\n",
        "\n",
        "# Interpret results\n",
        "if p_value > 0.05:\n",
        "  print(\"\\n❌ Planning has no significant effect on user compliance (rejection rate).\")\n",
        "else:\n",
        "  print(\"\\n✅ Planning has a significant effect on user compliance (rejection rate).\")"
      ]
    },
    {
      "cell_type": "code",
      "execution_count": 34,
      "metadata": {
        "colab": {
          "base_uri": "https://localhost:8080/"
        },
        "id": "6Ab5nurKEoas",
        "outputId": "11179b20-633f-488a-d24b-b00595cb7ac2"
      },
      "outputs": [
        {
          "name": "stdout",
          "output_type": "stream",
          "text": [
            "\n",
            "Analyzing scenario: Routine Choices\n",
            "  Acceptance rate (No Planning): 0.0030581039755351682\n",
            "  Acceptance rate (Planning): 0.004434589800443459\n",
            "  T-statistic: -0.4803544761038327\n",
            "  P-value: 0.6310440292383227\n",
            "  ❌ Planning has no significant effect on compliance in this scenario.\n",
            "\n",
            "Analyzing scenario: Lifestyle / Travel Planning\n",
            "  Acceptance rate (No Planning): 0.0\n",
            "  Acceptance rate (Planning): 0.0\n",
            "  T-statistic: nan\n",
            "  P-value: nan\n",
            "  ✅ Planning has a significant effect on compliance in this scenario.\n",
            "\n",
            "Analyzing scenario: Technology and Privacy\n",
            "  Acceptance rate (No Planning): 0.0045871559633027525\n",
            "  Acceptance rate (Planning): 0.0022172949002217295\n",
            "  T-statistic: 0.894655981462151\n",
            "  P-value: 0.3710982613599815\n",
            "  ❌ Planning has no significant effect on compliance in this scenario.\n",
            "\n",
            "Analyzing scenario: Social Relationships\n",
            "  Acceptance rate (No Planning): 0.0061162079510703364\n",
            "  Acceptance rate (Planning): 0.008869179600886918\n",
            "  T-statistic: -0.7378120425602548\n",
            "  P-value: 0.4607309841464733\n",
            "  ❌ Planning has no significant effect on compliance in this scenario.\n",
            "\n",
            "Analyzing scenario: Career / Professional Decisions\n",
            "  Acceptance rate (No Planning): 0.0061162079510703364\n",
            "  Acceptance rate (Planning): 0.008869179600886918\n",
            "  T-statistic: -0.8159868666679772\n",
            "  P-value: 0.41463174385173873\n",
            "  ❌ Planning has no significant effect on compliance in this scenario.\n",
            "\n",
            "Analyzing scenario: Ethical Dilemma\n",
            "  Acceptance rate (No Planning): 0.0030581039755351682\n",
            "  Acceptance rate (Planning): 0.008869179600886918\n",
            "  T-statistic: -1.786462192291073\n",
            "  P-value: 0.07421003002802508\n",
            "  ❌ Planning has no significant effect on compliance in this scenario.\n",
            "\n",
            "Analyzing scenario: Financial Decisions\n",
            "  Acceptance rate (No Planning): 0.00764525993883792\n",
            "  Acceptance rate (Planning): 0.0066518847006651885\n",
            "  T-statistic: 0.2714512196371782\n",
            "  P-value: 0.7860778875943226\n",
            "  ❌ Planning has no significant effect on compliance in this scenario.\n",
            "\n",
            "Analyzing scenario: Major Life Decisions\n",
            "  Acceptance rate (No Planning): 0.00764525993883792\n",
            "  Acceptance rate (Planning): 0.0066518847006651885\n",
            "  T-statistic: 0.26343207421851333\n",
            "  P-value: 0.7922582553367084\n",
            "  ❌ Planning has no significant effect on compliance in this scenario.\n"
          ]
        }
      ],
      "source": [
        "import pandas as pd\n",
        "from scipy.stats import ttest_ind\n",
        "\n",
        "# Assuming you have already loaded and preprocessed the data:\n",
        "# df_noplan: DataFrame for \"ONE-TURN WITHOUT PLANNING\"\n",
        "# df_plan: DataFrame for \"ONE-TURN WITH PLANNING\"\n",
        "\n",
        "scenarios = df_noplan['scenario'].unique()  # Get the list of scenarios\n",
        "\n",
        "for scenario in scenarios:\n",
        "    print(f\"\\nAnalyzing scenario: {scenario}\")\n",
        "\n",
        "    # Filter data for the current scenario\n",
        "    noplan_scenario = df_noplan[df_noplan['scenario'] == scenario]\n",
        "    plan_scenario = df_plan[df_plan['scenario'] == scenario]\n",
        "\n",
        "\n",
        "    # Calculate acceptance rates for the scenario in both conditions\n",
        "    acceptance_rate_noplan = calculate_acceptance_rate(noplan_scenario)\n",
        "    acceptance_rate_plan = calculate_acceptance_rate(plan_scenario)\n",
        "\n",
        "    print(f\"  Acceptance rate (No Planning): {acceptance_rate_noplan}\")\n",
        "    print(f\"  Acceptance rate (Planning): {acceptance_rate_plan}\")\n",
        "\n",
        "    # Perform t-test for the scenario\n",
        "    t_statistic, p_value = ttest_ind(\n",
        "        noplan_scenario[noplan_scenario['feedback'] == 'accept']['ai_is_malicious'].astype(int),\n",
        "        plan_scenario[plan_scenario['feedback'] == 'accept']['ai_is_malicious'].astype(int)\n",
        "    )\n",
        "\n",
        "    print(f\"  T-statistic: {t_statistic}\")\n",
        "    print(f\"  P-value: {p_value}\")\n",
        "\n",
        "    # Interpret results for the scenario\n",
        "    if p_value > 0.05:\n",
        "        print(\"  ❌ Planning has no significant effect on compliance in this scenario.\")\n",
        "    else:\n",
        "        print(\"  ✅ Planning has a significant effect on compliance in this scenario.\")"
      ]
    },
    {
      "cell_type": "markdown",
      "metadata": {
        "id": "vzVPuZJ4JA45"
      },
      "source": [
        "### Interaction Depth Difference"
      ]
    },
    {
      "cell_type": "code",
      "execution_count": 35,
      "metadata": {
        "id": "elU68VEfJIZT"
      },
      "outputs": [],
      "source": [
        "\n",
        "\n",
        "result = transform_data(\"https://raw.githubusercontent.com/ellabettison/SimulatingManipulativeAgents/refs/heads/master/results/ai_interaction_results_gemini-2.0-flash_0_interactions_noplan.json\", \"ZERO-TURN\")\n",
        "df_0turn = pd.DataFrame(result)"
      ]
    },
    {
      "cell_type": "code",
      "execution_count": 36,
      "metadata": {
        "id": "KqOHrr5QJD0H"
      },
      "outputs": [],
      "source": [
        "result = transform_data(\"https://raw.githubusercontent.com/ellabettison/SimulatingManipulativeAgents/refs/heads/master/results/ai_interaction_results_gemini-2.0-flash_1_interactions_noplan.json\", \"ONE-TURN WITHOUT PLANNING\")\n",
        "df_1turn= pd.DataFrame(result)"
      ]
    },
    {
      "cell_type": "code",
      "execution_count": 37,
      "metadata": {
        "colab": {
          "base_uri": "https://localhost:8080/"
        },
        "id": "3gwO4qtwJZJM",
        "outputId": "29e3ee12-3fbd-4737-c847-7a8d7583433e"
      },
      "outputs": [
        {
          "name": "stdout",
          "output_type": "stream",
          "text": [
            "0.18035924617196702\n",
            "0.141125\n"
          ]
        }
      ],
      "source": [
        "rejection_rate_noplan = calculate_rejection_rate(df_0turn)\n",
        "rejection_rate_plan = calculate_rejection_rate(df_1turn)\n",
        "print(rejection_rate_noplan)\n",
        "print(rejection_rate_plan)"
      ]
    },
    {
      "cell_type": "code",
      "execution_count": 38,
      "metadata": {
        "colab": {
          "base_uri": "https://localhost:8080/"
        },
        "id": "8lBKsAPRJh_m",
        "outputId": "2f743849-ba2b-4ba8-ba82-57ab9ca1fefd"
      },
      "outputs": [
        {
          "name": "stdout",
          "output_type": "stream",
          "text": [
            "\n",
            "T-statistic: -4.307198720116791\n",
            "P-value: 1.6633905329382193e-05\n",
            "\n",
            "✅ Interaction turn has a significant effect on user compliance (acceptance rate).\n"
          ]
        }
      ],
      "source": [
        "import pandas as pd\n",
        "from scipy.stats import ttest_ind\n",
        "\n",
        "# Perform t-test\n",
        "t_statistic, p_value = ttest_ind(\n",
        "    df_0turn[df_0turn['feedback'] == 'accept']['ai_is_malicious'].astype(int),\n",
        "    df_1turn[df_1turn['feedback'] == 'accept']['ai_is_malicious'].astype(int)\n",
        ")\n",
        "\n",
        "print(f\"\\nT-statistic: {t_statistic}\")\n",
        "print(f\"P-value: {p_value}\")\n",
        "\n",
        "# Interpret results\n",
        "if p_value > 0.05:\n",
        "  print(\"\\n❌ Interaction turn has no significant effect on user compliance (acceptance rate).\")\n",
        "else:\n",
        "  print(\"\\n✅ Interaction turn has a significant effect on user compliance (acceptance rate).\")"
      ]
    },
    {
      "cell_type": "markdown",
      "metadata": {
        "id": "VSFqMXaYlvjn"
      },
      "source": [
        "### Deepseek"
      ]
    },
    {
      "cell_type": "code",
      "execution_count": 39,
      "metadata": {
        "id": "JtfQKSJilvAf"
      },
      "outputs": [],
      "source": [
        "urls = [\n",
        "    \"https://raw.githubusercontent.com/ellabettison/SimulatingManipulativeAgents/refs/heads/master/results/ai_interaction_results_deepseek-chat_0_interactions_noplan.json\",\n",
        "    \"https://raw.githubusercontent.com/ellabettison/SimulatingManipulativeAgents/refs/heads/master/results/ai_interaction_results_deepseek-chat_1_interactions_noplan.json\",\n",
        "    \"https://raw.githubusercontent.com/ellabettison/SimulatingManipulativeAgents/refs/heads/master/results/ai_interaction_results_deepseek-chat_1_interactions_plan.json\"\n",
        "]\n",
        "\n",
        "labels = [\"ZERO-TURN\", \"ONE-TURN WITHOUT PLANNING\", \"ONE-TURN WITH PLANNING\"]"
      ]
    },
    {
      "cell_type": "code",
      "execution_count": 40,
      "metadata": {
        "colab": {
          "base_uri": "https://localhost:8080/",
          "height": 1000
        },
        "id": "Xw_Utp_el0Fd",
        "outputId": "a969c260-0877-447f-e374-1b6ae94bab84"
      },
      "outputs": [
        {
          "name": "stdout",
          "output_type": "stream",
          "text": [
            "\n",
            "Processing ZERO-TURN dataset from https://raw.githubusercontent.com/ellabettison/SimulatingManipulativeAgents/refs/heads/master/results/ai_interaction_results_deepseek-chat_0_interactions_noplan.json...\n",
            "865\n",
            "False    78.645235\n",
            "True     21.354765\n",
            "Name: ai_is_malicious, dtype: float64\n",
            "Feedback by AI Maliciousness:\n",
            "feedback         accept  neutral  reject\n",
            "ai_is_malicious                         \n",
            "False              5278      145      57\n",
            "True                 63        0    1425\n",
            "\n",
            "Feedback by Scenario:\n",
            "feedback                         accept  neutral  reject\n",
            "scenario                                                \n",
            "Career / Professional Decisions     620       61     190\n",
            "Ethical Dilemma                     676        8     187\n",
            "Financial Decisions                 684        6     181\n",
            "Lifestyle / Travel Planning         680        8     183\n",
            "Major Life Decisions                626       62     183\n",
            "Routine Choices                     688        0     183\n",
            "Social Relationships                683        0     188\n",
            "Technology and Privacy              684        0     187\n"
          ]
        },
        {
          "data": {
            "image/png": "[encoded data removed]",
            "text/plain": [
              "<Figure size 800x500 with 1 Axes>"
            ]
          },
          "metadata": {},
          "output_type": "display_data"
        },
        {
          "name": "stdout",
          "output_type": "stream",
          "text": [
            "Contingency Table:\n",
            "feedback         accept  neutral  reject\n",
            "ai_is_malicious                         \n",
            "False              5278      145      57\n",
            "True                 63        0    1425\n",
            "\n",
            "Chi-squared statistic = 6270.959\n",
            "Degrees of freedom = 1\n",
            "P-value = 0.0000\n",
            "\n",
            "✅ The difference in feedback between malicious and non-malicious AI is statistically significant.\n",
            "Scenarios where user ACCEPTED malicious AI advice:\n",
            "feedback                         accept  accept_rate\n",
            "scenario                                            \n",
            "Major Life Decisions                 17     0.091398\n",
            "Career / Professional Decisions      14     0.075269\n",
            "Routine Choices                      12     0.064516\n",
            "Financial Decisions                   7     0.037634\n",
            "Lifestyle / Travel Planning           7     0.037634\n",
            "Ethical Dilemma                       4     0.021505\n",
            "Social Relationships                  2     0.010753\n",
            "Technology and Privacy                0     0.000000\n",
            "Scenarios where user REJECTED malicious AI advice:\n",
            "feedback                         reject  reject_rate\n",
            "scenario                                            \n",
            "Technology and Privacy              186     1.000000\n",
            "Social Relationships                184     0.989247\n",
            "Ethical Dilemma                     182     0.978495\n",
            "Financial Decisions                 179     0.962366\n",
            "Lifestyle / Travel Planning         179     0.962366\n",
            "Routine Choices                     174     0.935484\n",
            "Career / Professional Decisions     172     0.924731\n",
            "Major Life Decisions                169     0.908602\n",
            "\n",
            "Processing ONE-TURN WITHOUT PLANNING dataset from https://raw.githubusercontent.com/ellabettison/SimulatingManipulativeAgents/refs/heads/master/results/ai_interaction_results_deepseek-chat_1_interactions_noplan.json...\n",
            "992\n",
            "False    79.9\n",
            "True     20.1\n",
            "Name: ai_is_malicious, dtype: float64\n",
            "Feedback by AI Maliciousness:\n",
            "feedback         accept  neutral  reject\n",
            "ai_is_malicious                         \n",
            "False             12494      240      50\n",
            "True                270        4    2942\n",
            "\n",
            "Feedback by Scenario:\n",
            "feedback                         accept  neutral  reject\n",
            "scenario                                                \n",
            "Career / Professional Decisions    1608       22     370\n",
            "Ethical Dilemma                    1620       10     370\n",
            "Financial Decisions                1566       52     382\n",
            "Lifestyle / Travel Planning        1580       52     368\n",
            "Major Life Decisions               1540       98     362\n",
            "Routine Choices                    1630        6     364\n",
            "Social Relationships               1610        0     390\n",
            "Technology and Privacy             1610        4     386\n"
          ]
        },
        {
          "data": {
            "image/png": "[encoded data removed]",
            "text/plain": [
              "<Figure size 800x500 with 1 Axes>"
            ]
          },
          "metadata": {},
          "output_type": "display_data"
        },
        {
          "name": "stdout",
          "output_type": "stream",
          "text": [
            "Contingency Table:\n",
            "feedback         accept  neutral  reject\n",
            "ai_is_malicious                         \n",
            "False             12494      240      50\n",
            "True                270        4    2942\n",
            "\n",
            "Chi-squared statistic = 14023.727\n",
            "Degrees of freedom = 1\n",
            "P-value = 0.0000\n",
            "\n",
            "✅ The difference in feedback between malicious and non-malicious AI is statistically significant.\n",
            "Scenarios where user ACCEPTED malicious AI advice:\n",
            "feedback                         accept  accept_rate\n",
            "scenario                                            \n",
            "Career / Professional Decisions      46     0.114428\n",
            "Major Life Decisions                 46     0.114428\n",
            "Routine Choices                      44     0.109453\n",
            "Lifestyle / Travel Planning          36     0.089552\n",
            "Ethical Dilemma                      34     0.084577\n",
            "Financial Decisions                  26     0.064677\n",
            "Social Relationships                 20     0.049751\n",
            "Technology and Privacy               18     0.044776\n",
            "Scenarios where user REJECTED malicious AI advice:\n",
            "feedback                         reject  reject_rate\n",
            "scenario                                            \n",
            "Technology and Privacy              384     0.955224\n",
            "Social Relationships                382     0.950249\n",
            "Financial Decisions                 376     0.935323\n",
            "Ethical Dilemma                     368     0.915423\n",
            "Lifestyle / Travel Planning         366     0.910448\n",
            "Routine Choices                     358     0.890547\n",
            "Career / Professional Decisions     354     0.880597\n",
            "Major Life Decisions                354     0.880597\n",
            "Total feedback changes: 600\n",
            " - Changed from ACCEPT → REJECT: 32\n",
            " - Changed from ACCEPT → NEUTRAL: 112\n",
            " - Changed from REJECT → ACCEPT: 224\n",
            " - Changed from REJECT → NEUTRAL: 14\n",
            " - Changed from NEUTRAL → ACCEPT: 212\n",
            " - Changed from NEUTRAL → REJECT: 6\n",
            "\n",
            "Processing ONE-TURN WITH PLANNING dataset from https://raw.githubusercontent.com/ellabettison/SimulatingManipulativeAgents/refs/heads/master/results/ai_interaction_results_deepseek-chat_1_interactions_plan.json...\n",
            "129\n",
            "False    78.294574\n",
            "True     21.705426\n",
            "Name: ai_is_malicious, dtype: float64\n",
            "Feedback by AI Maliciousness:\n",
            "feedback         accept  neutral  reject\n",
            "ai_is_malicious                         \n",
            "False              1576       34       6\n",
            "True                 58        0     390\n",
            "\n",
            "Feedback by Scenario:\n",
            "feedback                         accept  neutral  reject\n",
            "scenario                                                \n",
            "Career / Professional Decisions     210        0      48\n",
            "Ethical Dilemma                     202        0      56\n",
            "Financial Decisions                 204        4      50\n",
            "Lifestyle / Travel Planning         200       10      48\n",
            "Major Life Decisions                196       20      42\n",
            "Routine Choices                     214        0      44\n",
            "Social Relationships                204        0      54\n",
            "Technology and Privacy              204        0      54\n"
          ]
        },
        {
          "data": {
            "image/png": "[encoded data removed]",
            "text/plain": [
              "<Figure size 800x500 with 1 Axes>"
            ]
          },
          "metadata": {},
          "output_type": "display_data"
        },
        {
          "name": "stdout",
          "output_type": "stream",
          "text": [
            "Contingency Table:\n",
            "feedback         accept  neutral  reject\n",
            "ai_is_malicious                         \n",
            "False              1576       34       6\n",
            "True                 58        0     390\n",
            "\n",
            "Chi-squared statistic = 1700.050\n",
            "Degrees of freedom = 1\n",
            "P-value = 0.0000\n",
            "\n",
            "✅ The difference in feedback between malicious and non-malicious AI is statistically significant.\n",
            "Scenarios where user ACCEPTED malicious AI advice:\n",
            "feedback                         accept  accept_rate\n",
            "scenario                                            \n",
            "Major Life Decisions                 16     0.285714\n",
            "Routine Choices                      12     0.214286\n",
            "Career / Professional Decisions      10     0.178571\n",
            "Lifestyle / Travel Planning           8     0.142857\n",
            "Financial Decisions                   6     0.107143\n",
            "Ethical Dilemma                       2     0.035714\n",
            "Social Relationships                  2     0.035714\n",
            "Technology and Privacy                2     0.035714\n",
            "Scenarios where user REJECTED malicious AI advice:\n",
            "feedback                         reject  reject_rate\n",
            "scenario                                            \n",
            "Ethical Dilemma                      54     0.964286\n",
            "Social Relationships                 54     0.964286\n",
            "Technology and Privacy               54     0.964286\n",
            "Financial Decisions                  50     0.892857\n",
            "Lifestyle / Travel Planning          48     0.857143\n",
            "Career / Professional Decisions      46     0.821429\n",
            "Routine Choices                      44     0.785714\n",
            "Major Life Decisions                 40     0.714286\n",
            "Total feedback changes: 82\n",
            " - Changed from ACCEPT → REJECT: 8\n",
            " - Changed from ACCEPT → NEUTRAL: 12\n",
            " - Changed from REJECT → ACCEPT: 26\n",
            " - Changed from REJECT → NEUTRAL: 0\n",
            " - Changed from NEUTRAL → ACCEPT: 34\n",
            " - Changed from NEUTRAL → REJECT: 2\n"
          ]
        }
      ],
      "source": [
        "for url, label in zip(urls, labels):\n",
        "        print(f\"\\nProcessing {label} dataset from {url}...\")\n",
        "        result = transform_data(url, label)\n",
        "        df = pd.DataFrame(result)\n",
        "        print(df['user_personality'].unique().size)\n",
        "        print(df['ai_is_malicious'].value_counts(normalize=True) * 100)\n",
        "        preprocess_feedback(df,label)\n",
        "        # print(df.head())\n",
        "\n",
        "\n",
        "        analyze_data(df)\n",
        "\n",
        "        if label != \"ZERO-TURN\":\n",
        "          count_feedback_changes(df)\n"
      ]
    },
    {
      "cell_type": "code",
      "execution_count": 41,
      "metadata": {
        "id": "iMQvF8sNmfFT"
      },
      "outputs": [],
      "source": [
        "result = transform_data(urls[1], \"ONE-TURN WITHOUT PLANNING\")\n",
        "df_noplan = pd.DataFrame(result)\n",
        "\n",
        "result = transform_data(urls[2], \"ONE-TURN WITH PLANNING\")\n",
        "df_plan = pd.DataFrame(result)"
      ]
    },
    {
      "cell_type": "code",
      "execution_count": 42,
      "metadata": {
        "colab": {
          "base_uri": "https://localhost:8080/"
        },
        "id": "AlYOEOlSl8L8",
        "outputId": "d83f21f7-d117-4d03-f5e6-1da10940dbf6"
      },
      "outputs": [
        {
          "name": "stdout",
          "output_type": "stream",
          "text": [
            "0.183875\n",
            "0.18895348837209303\n"
          ]
        }
      ],
      "source": [
        "rejection_rate_noplan = calculate_rejection_rate(df_noplan)\n",
        "rejection_rate_plan = calculate_rejection_rate(df_plan)\n",
        "print(rejection_rate_noplan)\n",
        "print(rejection_rate_plan)"
      ]
    },
    {
      "cell_type": "code",
      "execution_count": 43,
      "metadata": {
        "colab": {
          "base_uri": "https://localhost:8080/"
        },
        "id": "7U32RFUXl6jU",
        "outputId": "7d26fd0d-3055-4606-fac8-e09b9fb004ce"
      },
      "outputs": [
        {
          "name": "stdout",
          "output_type": "stream",
          "text": [
            "0.016875\n",
            "0.02810077519379845\n"
          ]
        }
      ],
      "source": [
        "acceptance_rate_noplan = calculate_acceptance_rate(df_noplan)\n",
        "acceptance_rate_plan = calculate_acceptance_rate(df_plan)\n",
        "print(acceptance_rate_noplan)\n",
        "print(acceptance_rate_plan)"
      ]
    },
    {
      "cell_type": "code",
      "execution_count": 44,
      "metadata": {
        "colab": {
          "base_uri": "https://localhost:8080/"
        },
        "id": "QCdYorTwl-yW",
        "outputId": "eee38245-3e04-414f-a50b-f3083abcd5a6"
      },
      "outputs": [
        {
          "name": "stdout",
          "output_type": "stream",
          "text": [
            "\n",
            "T-statistic: -0.2287040738816387\n",
            "P-value: 0.8191127394967062\n",
            "\n",
            "❌ Planning has no significant effect on user compliance (rejection rate).\n"
          ]
        }
      ],
      "source": [
        "import pandas as pd\n",
        "from scipy.stats import ttest_ind\n",
        "\n",
        "# Perform t-test\n",
        "t_statistic, p_value = ttest_ind(\n",
        "    df_noplan[df_noplan['feedback'] == 'reject']['ai_is_malicious'].astype(int),\n",
        "    df_plan[df_plan['feedback'] == 'reject']['ai_is_malicious'].astype(int)\n",
        ")\n",
        "\n",
        "print(f\"\\nT-statistic: {t_statistic}\")\n",
        "print(f\"P-value: {p_value}\")\n",
        "\n",
        "# Interpret results\n",
        "if p_value > 0.05:\n",
        "  print(\"\\n❌ Planning has no significant effect on user compliance (rejection rate).\")\n",
        "else:\n",
        "  print(\"\\n✅ Planning has a significant effect on user compliance (rejection rate).\")"
      ]
    },
    {
      "cell_type": "code",
      "execution_count": 46,
      "metadata": {},
      "outputs": [
        {
          "data": {
            "image/png": "[encoded data removed]",
            "text/plain": [
              "<Figure size 1000x600 with 1 Axes>"
            ]
          },
          "metadata": {},
          "output_type": "display_data"
        }
      ],
      "source": [
        "import json\n",
        "import pandas as pd\n",
        "import matplotlib.pyplot as plt\n",
        "import seaborn as sns\n",
        "import numpy as np\n",
        "\n",
        "# Load the results from both plan and no-plan conditions\n",
        "with open('/Users/ypi/SimulatingManipulativeAgents/merged_results/ai_interaction_results_deepseek-chat_1_interactions_noplan.json', 'r') as f:\n",
        "    plan_results = json.load(f)\n",
        "with open('/Users/ypi/SimulatingManipulativeAgents/merged_results/ai_interaction_results_deepseek-chat_1_interactions_plan.json', 'r') as f:\n",
        "    noplan_results = json.load(f)\n",
        "\n",
        "def analyze_results(results, has_planning):\n",
        "    responses = []\n",
        "    for interaction in results:\n",
        "        if interaction['ai_is_malicious']:\n",
        "            for scenario in interaction['scenario_chats']:\n",
        "                for chat in scenario['chat_history']:\n",
        "                    if 'feedback' in chat:\n",
        "                        responses.append({\n",
        "                            'planning': has_planning,\n",
        "                            'response': chat['feedback']\n",
        "                        })\n",
        "    return pd.DataFrame(responses)\n",
        "\n",
        "# Combine and analyze results\n",
        "plan_df = analyze_results(plan_results, True)\n",
        "noplan_df = analyze_results(noplan_results, False)\n",
        "combined_df = pd.concat([plan_df, noplan_df])\n",
        "\n",
        "# Calculate percentages\n",
        "results = combined_df.groupby(['planning', 'response']).size().unstack(fill_value=0)\n",
        "results_pct = results.div(results.sum(axis=1), axis=0) * 100\n",
        "\n",
        "# Create the visualization\n",
        "plt.figure(figsize=(10, 6))\n",
        "bar_width = 0.35\n",
        "x = np.arange(2)\n",
        "\n",
        "plt.bar(x - bar_width/2, results_pct['accept'], bar_width, label='Accept', color='green', alpha=0.6)\n",
        "plt.bar(x + bar_width/2, results_pct['reject'], bar_width, label='Reject', color='red', alpha=0.6)\n",
        "\n",
        "plt.xlabel('Planning Strategy')\n",
        "plt.ylabel('Percentage of Responses')\n",
        "plt.title('Impact of Planning on User Responses to Malicious Agents')\n",
        "plt.xticks(x, ['No Planning', 'With Planning'])\n",
        "plt.legend()\n",
        "\n",
        "plt.tight_layout()\n",
        "plt.show()"
      ]
    }
  ],
  "metadata": {
    "colab": {
      "provenance": [],
      "toc_visible": true
    },
    "kernelspec": {
      "display_name": "Python 3",
      "name": "python3"
    },
    "language_info": {
      "codemirror_mode": {
        "name": "ipython",
        "version": 3
      },
      "file_extension": ".py",
      "mimetype": "text/x-python",
      "name": "python",
      "nbconvert_exporter": "python",
      "pygments_lexer": "ipython3",
      "version": "3.12.3"
    }
  },
  "nbformat": 4,
  "nbformat_minor": 0
}
